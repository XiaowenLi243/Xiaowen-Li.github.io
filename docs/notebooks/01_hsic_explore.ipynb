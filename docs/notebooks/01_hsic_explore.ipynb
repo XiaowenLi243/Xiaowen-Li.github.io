{
 "cells": [
  {
   "cell_type": "markdown",
   "id": "dd1b7f0a",
   "metadata": {},
   "source": [
    "# HSIC Lasso API exploration\n",
    "\n",
    "In this notebook, I'll explore the API of\n",
    "[pyHSICLasso](https://github.com/riken-aip/pyHSICLasso), to learn how to use it\n",
    "on some test data."
   ]
  },
  {
   "cell_type": "code",
   "execution_count": 1,
   "id": "844e7d48",
   "metadata": {
    "lines_to_next_cell": 2
   },
   "outputs": [],
   "source": [
    "import numpy as np\n",
    "import scipy.special as sp\n",
    "import matplotlib.pyplot as plt\n",
    "\n",
    "from pyHSICLasso import HSICLasso"
   ]
  },
  {
   "cell_type": "markdown",
   "id": "a4672d19",
   "metadata": {},
   "source": [
    "## Genotype and phenotype generation\n",
    "\n",
    "First, I generate some test data that would look like the data we plan to use in\n",
    "the end. Note that the feature matrix it is very sparse (81% of zeros) and contains\n",
    "only 3 possible values (0, 1 or 2)."
   ]
  },
  {
   "cell_type": "code",
   "execution_count": 2,
   "id": "5a5f3615",
   "metadata": {},
   "outputs": [],
   "source": [
    "ncol = 500\n",
    "nsample = 1000\n",
    "coeffs = np.array([0.2, 0.1, 0.3, 0.8])\n",
    "\n",
    "rng = np.random.default_rng(12345)\n",
    "X = rng.choice(a=[0, 1, 2], p=[0.81, 0.18, 0.01], replace=True, size=(nsample, ncol))\n",
    "yint = X[:, : len(coeffs)] @ coeffs\n",
    "p1 = sp.expit(yint - np.mean(yint))\n",
    "Y = rng.binomial(1, p1)"
   ]
  },
  {
   "cell_type": "markdown",
   "id": "ed825afd",
   "metadata": {},
   "source": [
    "## HSIC Lasso model fitting (default parameters)\n",
    "\n",
    "Here I try fitting HSIC lasso using the default parameters (so using block HSIC\n",
    "lasso, `B=20` and `M=3`), and check if it finds the active features."
   ]
  },
  {
   "cell_type": "code",
   "execution_count": 3,
   "id": "40e16e2d",
   "metadata": {},
   "outputs": [],
   "source": [
    "def plot_features(hsic_lasso):\n",
    "    feats = hsic_lasso.get_index()\n",
    "    scores = hsic_lasso.get_index_score()\n",
    "\n",
    "    _, ax = plt.subplots(figsize=(12, 5))\n",
    "    ax.plot(scores, \"o\")\n",
    "    ax.grid(True)\n",
    "    ax.set_xticks(range(len(feats)))\n",
    "    ax.set_xticklabels(feats)\n",
    "    ax.set_ylabel(\"feature score\")\n",
    "    ax.set_xlabel(\"feature index\")\n",
    "\n",
    "    return ax"
   ]
  },
  {
   "cell_type": "code",
   "execution_count": 4,
   "id": "7c1537a7",
   "metadata": {},
   "outputs": [
    {
     "name": "stdout",
     "output_type": "stream",
     "text": [
      "Block HSIC Lasso B = 20.\n",
      "M set to 3.\n",
      "Using Gaussian kernel for the features, Delta kernel for the outcomes.\n"
     ]
    }
   ],
   "source": [
    "hsic_lasso = HSICLasso()\n",
    "hsic_lasso.input(X, Y)\n",
    "_ = hsic_lasso.classification(num_feat=10)"
   ]
  },
  {
   "cell_type": "code",
   "execution_count": 5,
   "id": "e329632b",
   "metadata": {},
   "outputs": [
    {
     "data": {
      "image/png": "[encoded data removed]",
      "text/plain": [
       "<Figure size 864x360 with 1 Axes>"
      ]
     },
     "metadata": {
      "needs_background": "light"
     },
     "output_type": "display_data"
    }
   ],
   "source": [
    "_ = plot_features(hsic_lasso)"
   ]
  },
  {
   "cell_type": "code",
   "execution_count": 6,
   "id": "65df868a",
   "metadata": {},
   "outputs": [
    {
     "name": "stdout",
     "output_type": "stream",
     "text": [
      "============================================== HSICLasso : Result ==================================================\n",
      "| Order | Feature      | Score | Top-5 Related Feature (Relatedness Score)                                          |\n",
      "| 1     | 20           | 1.000 | 347          (0.088), 182          (0.088), 129          (0.078), 363          (0.078), 485          (0.078)|\n",
      "| 2     | 55           | 0.587 | 355          (0.078), 163          (0.078), 299          (0.078), 229          (0.077), 497          (0.077)|\n",
      "| 3     | 3            | 0.216 | 343          (0.082), 297          (0.081), 409          (0.079), 34           (0.078), 192          (0.078)|\n",
      "| 4     | 101          | 0.215 | 217          (0.082), 270          (0.082), 110          (0.081), 419          (0.079), 43           (0.078)|\n",
      "| 5     | 154          | 0.205 | 116          (0.084), 192          (0.081), 131          (0.080), 354          (0.080), 243          (0.077)|\n",
      "| 6     | 461          | 0.143 | 214          (0.080), 39           (0.078), 355          (0.076), 451          (0.076), 385          (0.075)|\n",
      "| 7     | 78           | 0.135 | 306          (0.080), 49           (0.078), 447          (0.077), 58           (0.077), 74           (0.076)|\n",
      "| 8     | 380          | 0.131 | 198          (0.082), 437          (0.082), 216          (0.079), 206          (0.079), 91           (0.078)|\n",
      "| 9     | 46           | 0.103 | 15           (0.085), 340          (0.084), 47           (0.082), 437          (0.079), 263          (0.077)|\n",
      "| 10    | 401          | 0.022 | 429          (0.079), 403          (0.078), 420          (0.077), 99           (0.077), 451          (0.076)|\n"
     ]
    }
   ],
   "source": [
    "hsic_lasso.dump()"
   ]
  },
  {
   "cell_type": "markdown",
   "id": "21a77447",
   "metadata": {},
   "source": [
    "## Vanilla HSIC Lasso (no block)\n",
    "\n",
    "For comparison purpose, I also try the vanilla HSIC lasso, i.e. without blocks."
   ]
  },
  {
   "cell_type": "code",
   "execution_count": 7,
   "id": "3662b3df",
   "metadata": {},
   "outputs": [
    {
     "name": "stdout",
     "output_type": "stream",
     "text": [
      "Block HSIC Lasso B = 1000.\n",
      "M set to 1.\n",
      "Using Gaussian kernel for the features, Delta kernel for the outcomes.\n"
     ]
    }
   ],
   "source": [
    "hsic_lasso = HSICLasso()\n",
    "hsic_lasso.input(X, Y)\n",
    "_ = hsic_lasso.classification(num_feat=10, B=nsample, M=1)"
   ]
  },
  {
   "cell_type": "code",
   "execution_count": 8,
   "id": "c638efea",
   "metadata": {},
   "outputs": [
    {
     "data": {
      "image/png": "[encoded data removed]",
      "text/plain": [
       "<Figure size 864x360 with 1 Axes>"
      ]
     },
     "metadata": {
      "needs_background": "light"
     },
     "output_type": "display_data"
    }
   ],
   "source": [
    "_ = plot_features(hsic_lasso)"
   ]
  },
  {
   "cell_type": "code",
   "execution_count": 9,
   "id": "fae161c1",
   "metadata": {},
   "outputs": [
    {
     "name": "stdout",
     "output_type": "stream",
     "text": [
      "============================================== HSICLasso : Result ==================================================\n",
      "| Order | Feature      | Score | Top-5 Related Feature (Relatedness Score)                                          |\n",
      "| 1     | 20           | 1.000 | 347          (0.013), 182          (0.010), 221          (0.009), 285          (0.009), 130          (0.009)|\n",
      "| 2     | 3            | 0.987 | 356          (0.011), 451          (0.009), 34           (0.008), 38           (0.008), 297          (0.008)|\n",
      "| 3     | 4            | 0.620 | 19           (0.010), 144          (0.009), 383          (0.009), 305          (0.008), 332          (0.007)|\n",
      "| 4     | 16           | 0.574 | 446          (0.013), 78           (0.008), 499          (0.008), 159          (0.008), 336          (0.007)|\n",
      "| 5     | 346          | 0.290 | 200          (0.010), 356          (0.009), 424          (0.007), 330          (0.007), 83           (0.006)|\n",
      "| 6     | 290          | 0.215 | 164          (0.008), 18           (0.007), 433          (0.007), 469          (0.007), 495          (0.006)|\n",
      "| 7     | 401          | 0.196 | 50           (0.008), 236          (0.007), 189          (0.006), 355          (0.006), 465          (0.006)|\n",
      "| 8     | 39           | 0.151 | 375          (0.013), 123          (0.012), 332          (0.011), 410          (0.009), 286          (0.008)|\n",
      "| 9     | 384          | 0.149 | 417          (0.010), 278          (0.009), 84           (0.008), 394          (0.007), 327          (0.007)|\n",
      "| 10    | 471          | 0.011 | 95           (0.010), 387          (0.010), 252          (0.007), 354          (0.007), 144          (0.006)|\n"
     ]
    }
   ],
   "source": [
    "hsic_lasso.dump()"
   ]
  }
 ],
 "metadata": {
  "kernelspec": {
   "display_name": "hsic_optimization",
   "language": "python",
   "name": "hsic_optimization"
  },
  "language_info": {
   "codemirror_mode": {
    "name": "ipython",
    "version": 3
   },
   "file_extension": ".py",
   "mimetype": "text/x-python",
   "name": "python",
   "nbconvert_exporter": "python",
   "pygments_lexer": "ipython3",
   "version": "3.8.8"
  }
 },
 "nbformat": 4,
 "nbformat_minor": 5
}
