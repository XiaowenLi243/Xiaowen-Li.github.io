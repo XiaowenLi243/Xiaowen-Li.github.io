{
 "cells": [
  {
   "cell_type": "markdown",
   "metadata": {},
   "source": [
    "# Feature matrices optimization"
   ]
  },
  {
   "cell_type": "code",
   "execution_count": 1,
   "metadata": {},
   "outputs": [],
   "source": [
    "import numpy as np\n",
    "from pyHSICLasso.hsic_lasso import compute_kernel\n",
    "from pyHSICLasso.kernel_tools import kernel_gaussian\n",
    "from numba import njit, prange\n",
    "import matplotlib.pyplot as plt\n",
    "\n",
    "from hsic_optimization.benchmark import generate_data"
   ]
  },
  {
   "cell_type": "code",
   "execution_count": 2,
   "metadata": {},
   "outputs": [],
   "source": [
    "%load_ext line_profiler"
   ]
  },
  {
   "cell_type": "code",
   "execution_count": 3,
   "metadata": {},
   "outputs": [],
   "source": [
    "X = generate_data(10000, 1, 1, seed=12345)[0].T"
   ]
  },
  {
   "cell_type": "code",
   "execution_count": 4,
   "metadata": {},
   "outputs": [
    {
     "name": "stdout",
     "output_type": "stream",
     "text": [
      "144 ms ± 2.51 ms per loop (mean ± std. dev. of 7 runs, 10 loops each)\n"
     ]
    }
   ],
   "source": [
    "%%timeit\n",
    "compute_kernel(X, \"Gaussian\", B=20, M=3)"
   ]
  },
  {
   "cell_type": "code",
   "execution_count": 5,
   "metadata": {},
   "outputs": [
    {
     "data": {
      "text/plain": [
       "Timer unit: 1e-06 s\n",
       "\n",
       "Total time: 0.259664 s\n",
       "File: /home/riom/project/hsic_optimization/venv/lib/python3.8/site-packages/pyHSICLasso/hsic_lasso.py\n",
       "Function: compute_kernel at line 53\n",
       "\n",
       "Line #      Hits         Time  Per Hit   % Time  Line Contents\n",
       "==============================================================\n",
       "    53                                           def compute_kernel(x, kernel, B = 0, M = 1, discarded = 0):\n",
       "    54                                           \n",
       "    55         1         14.0     14.0      0.0      d,n = x.shape\n",
       "    56                                           \n",
       "    57         1         90.0     90.0      0.0      H = np.eye(B, dtype=np.float32) - 1 / B * np.ones(B, dtype=np.float32)\n",
       "    58         1        357.0    357.0      0.1      K = np.zeros(n * B * M, dtype=np.float32)\n",
       "    59                                           \n",
       "    60                                               # Normalize data\n",
       "    61         1          2.0      2.0      0.0      if kernel == \"Gaussian\":\n",
       "    62         1        343.0    343.0      0.1          x = (x / (x.std() + 10e-20)).astype(np.float32)\n",
       "    63                                           \n",
       "    64         1          2.0      2.0      0.0      st = 0\n",
       "    65         1          2.0      2.0      0.0      ed = B ** 2\n",
       "    66         1         23.0     23.0      0.0      index = np.arange(n)\n",
       "    67         4          7.0      1.8      0.0      for m in range(M):\n",
       "    68         3         34.0     11.3      0.0          np.random.seed(m)\n",
       "    69         3        732.0    244.0      0.3          index = np.random.permutation(index)\n",
       "    70                                           \n",
       "    71      1503       1527.0      1.0      0.6          for i in range(0, n - discarded, B):\n",
       "    72      1500       2840.0      1.9      1.1              j = min(n, i + B)\n",
       "    73                                           \n",
       "    74      1500       1550.0      1.0      0.6              if kernel == 'Gaussian':\n",
       "    75      1500     173855.0    115.9     67.0                  k = kernel_gaussian(x[:,index[i:j]], x[:,index[i:j]], np.sqrt(d))\n",
       "    76                                                       elif kernel == 'Delta':\n",
       "    77                                                           k = kernel_delta_norm(x[:,index[i:j]], x[:, index[i:j]])\n",
       "    78                                           \n",
       "    79      1500      17314.0     11.5      6.7              k = np.dot(np.dot(H, k), H)\n",
       "    80                                           \n",
       "    81                                                       # Normalize HSIC tr(k*k) = 1\n",
       "    82      1500      47626.0     31.8     18.3              k = k / (np.linalg.norm(k, 'fro') + 10e-10)\n",
       "    83      1500       8529.0      5.7      3.3              K[st:ed] = k.flatten()\n",
       "    84      1500       2843.0      1.9      1.1              st += B ** 2\n",
       "    85      1500       1973.0      1.3      0.8              ed += B ** 2\n",
       "    86                                           \n",
       "    87         1          1.0      1.0      0.0      return K"
      ]
     },
     "metadata": {},
     "output_type": "display_data"
    }
   ],
   "source": [
    "%lprun -f compute_kernel compute_kernel(X, \"Gaussian\", B=20, M=3)"
   ]
  },
  {
   "cell_type": "code",
   "execution_count": 6,
   "metadata": {},
   "outputs": [],
   "source": [
    "X_k = X[:, :20]"
   ]
  },
  {
   "cell_type": "code",
   "execution_count": 7,
   "metadata": {},
   "outputs": [
    {
     "name": "stdout",
     "output_type": "stream",
     "text": [
      "55.6 µs ± 1.47 µs per loop (mean ± std. dev. of 7 runs, 10000 loops each)\n"
     ]
    }
   ],
   "source": [
    "%%timeit\n",
    "kernel_gaussian(X_k, X_k, 1.0)"
   ]
  },
  {
   "cell_type": "code",
   "execution_count": 8,
   "metadata": {},
   "outputs": [
    {
     "data": {
      "text/plain": [
       "True"
      ]
     },
     "execution_count": 8,
     "metadata": {},
     "output_type": "execute_result"
    }
   ],
   "source": [
    "def kernel_gaussian_1(x):\n",
    "    return np.exp(-((x - x.T) ** 2) * 0.5)\n",
    "\n",
    "\n",
    "np.allclose(kernel_gaussian(X_k, X_k, 1.0), kernel_gaussian_1(X_k))"
   ]
  },
  {
   "cell_type": "code",
   "execution_count": 9,
   "metadata": {},
   "outputs": [
    {
     "name": "stdout",
     "output_type": "stream",
     "text": [
      "11.5 µs ± 80.2 ns per loop (mean ± std. dev. of 7 runs, 100000 loops each)\n"
     ]
    }
   ],
   "source": [
    "%%timeit\n",
    "kernel_gaussian_1(X_k)"
   ]
  },
  {
   "cell_type": "code",
   "execution_count": 10,
   "metadata": {},
   "outputs": [
    {
     "data": {
      "text/plain": [
       "True"
      ]
     },
     "execution_count": 10,
     "metadata": {},
     "output_type": "execute_result"
    }
   ],
   "source": [
    "@njit\n",
    "def kernel_gaussian_2(x):\n",
    "    return np.exp(-((x - x.T) ** 2) * 0.5)\n",
    "\n",
    "\n",
    "np.allclose(kernel_gaussian(X_k, X_k, 1.0), kernel_gaussian_2(X_k))"
   ]
  },
  {
   "cell_type": "code",
   "execution_count": 11,
   "metadata": {},
   "outputs": [
    {
     "name": "stdout",
     "output_type": "stream",
     "text": [
      "5.88 µs ± 70 ns per loop (mean ± std. dev. of 7 runs, 100000 loops each)\n"
     ]
    }
   ],
   "source": [
    "%%timeit\n",
    "kernel_gaussian_2(X_k)"
   ]
  },
  {
   "cell_type": "code",
   "execution_count": 12,
   "metadata": {},
   "outputs": [
    {
     "data": {
      "text/plain": [
       "True"
      ]
     },
     "execution_count": 12,
     "metadata": {},
     "output_type": "execute_result"
    }
   ],
   "source": [
    "@njit\n",
    "def kernel_gaussian_3(x):\n",
    "    _, n = x.shape\n",
    "    out = np.empty((n, n), dtype=np.float64)\n",
    "    for i in range(n):\n",
    "        for j in range(i, n):\n",
    "            res = np.exp(-((x[0, i] - x[0, j]) ** 2) * 0.5)\n",
    "            out[i, j] = res\n",
    "            out[j, i] = res\n",
    "    return out\n",
    "\n",
    "\n",
    "np.allclose(kernel_gaussian(X_k, X_k, 1.0), kernel_gaussian_3(X_k))"
   ]
  },
  {
   "cell_type": "code",
   "execution_count": 13,
   "metadata": {},
   "outputs": [
    {
     "name": "stdout",
     "output_type": "stream",
     "text": [
      "3.59 µs ± 10.8 ns per loop (mean ± std. dev. of 7 runs, 100000 loops each)\n"
     ]
    }
   ],
   "source": [
    "%%timeit\n",
    "kernel_gaussian_3(X_k)"
   ]
  },
  {
   "cell_type": "code",
   "execution_count": 14,
   "metadata": {},
   "outputs": [
    {
     "data": {
      "text/plain": [
       "True"
      ]
     },
     "execution_count": 14,
     "metadata": {},
     "output_type": "execute_result"
    }
   ],
   "source": [
    "@njit\n",
    "def kernel_gaussian_4(x):\n",
    "    _, n = x.shape\n",
    "    out = np.ones((n, n), dtype=np.float64)\n",
    "    _, indices = np.nonzero(X_k)\n",
    "    for i in indices:\n",
    "        for j in range(n):\n",
    "            res = np.exp(-((x[0, i] - x[0, j]) ** 2) * 0.5)\n",
    "            out[i, j] = res\n",
    "            out[j, i] = res\n",
    "    return out\n",
    "\n",
    "\n",
    "np.allclose(kernel_gaussian(X_k, X_k, 1.0), kernel_gaussian_4(X_k))"
   ]
  },
  {
   "cell_type": "code",
   "execution_count": 15,
   "metadata": {},
   "outputs": [
    {
     "name": "stdout",
     "output_type": "stream",
     "text": [
      "3.06 µs ± 151 ns per loop (mean ± std. dev. of 7 runs, 100000 loops each)\n"
     ]
    }
   ],
   "source": [
    "%%timeit\n",
    "kernel_gaussian_4(X_k)"
   ]
  },
  {
   "cell_type": "code",
   "execution_count": 16,
   "metadata": {},
   "outputs": [
    {
     "data": {
      "text/plain": [
       "True"
      ]
     },
     "execution_count": 16,
     "metadata": {},
     "output_type": "execute_result"
    }
   ],
   "source": [
    "lookup = kernel_gaussian_1(np.array([[0, 1, 2]]))\n",
    "np.allclose(kernel_gaussian(X_k, X_k, 1.0), lookup[X_k, X_k.T])"
   ]
  },
  {
   "cell_type": "code",
   "execution_count": 17,
   "metadata": {},
   "outputs": [
    {
     "name": "stdout",
     "output_type": "stream",
     "text": [
      "3.5 µs ± 276 ns per loop (mean ± std. dev. of 7 runs, 100000 loops each)\n"
     ]
    }
   ],
   "source": [
    "%%timeit\n",
    "lookup[X_k, X_k.T]"
   ]
  },
  {
   "cell_type": "code",
   "execution_count": 18,
   "metadata": {},
   "outputs": [
    {
     "data": {
      "text/plain": [
       "True"
      ]
     },
     "execution_count": 18,
     "metadata": {},
     "output_type": "execute_result"
    }
   ],
   "source": [
    "@njit\n",
    "def kernel_gaussian_5(x, lookup):\n",
    "    _, n = x.shape\n",
    "    out = np.empty((n, n), dtype=lookup.dtype)\n",
    "    for i in range(n):\n",
    "        for j in range(i, n):\n",
    "            res = lookup[x[0, i], x[0, j]]\n",
    "            out[i, j] = res\n",
    "            out[j, i] = res\n",
    "    return out\n",
    "\n",
    "\n",
    "np.allclose(kernel_gaussian(X_k, X_k, 1.0), kernel_gaussian_5(X_k, lookup))"
   ]
  },
  {
   "cell_type": "code",
   "execution_count": 19,
   "metadata": {},
   "outputs": [
    {
     "name": "stdout",
     "output_type": "stream",
     "text": [
      "1.49 µs ± 20.4 ns per loop (mean ± std. dev. of 7 runs, 1000000 loops each)\n"
     ]
    }
   ],
   "source": [
    "%%timeit\n",
    "kernel_gaussian_5(X_k, lookup)"
   ]
  },
  {
   "cell_type": "markdown",
   "metadata": {},
   "source": [
    "## Accelerate `compute_kernel`"
   ]
  },
  {
   "cell_type": "code",
   "execution_count": 20,
   "metadata": {},
   "outputs": [
    {
     "name": "stdout",
     "output_type": "stream",
     "text": [
      "144 ms ± 1.53 ms per loop (mean ± std. dev. of 7 runs, 10 loops each)\n"
     ]
    }
   ],
   "source": [
    "%%timeit\n",
    "compute_kernel(X, \"Gaussian\", B=20, M=3)"
   ]
  },
  {
   "cell_type": "code",
   "execution_count": 21,
   "metadata": {},
   "outputs": [
    {
     "data": {
      "text/plain": [
       "True"
      ]
     },
     "execution_count": 21,
     "metadata": {},
     "output_type": "execute_result"
    }
   ],
   "source": [
    "def compute_kernel_1(x, B=0, M=1, discarded=0):\n",
    "    d, n = x.shape\n",
    "\n",
    "    H = np.eye(B, dtype=np.float32) - 1 / B * np.ones(B, dtype=np.float32)\n",
    "    K = np.zeros(n * B * M, dtype=np.float32)\n",
    "\n",
    "    arr = np.array([[0, 1, 2]])\n",
    "    x_std = x.std() + 1e-19\n",
    "    lookup = kernel_gaussian(arr / x_std, arr / x_std, 1.0).astype(np.float32)\n",
    "\n",
    "    st = 0\n",
    "    ed = B**2\n",
    "    index = np.arange(n)\n",
    "    for m in range(M):\n",
    "        np.random.seed(m)\n",
    "        index = np.random.permutation(index)\n",
    "        X_k = x[:, index]\n",
    "\n",
    "        for i in range(0, n - discarded, B):\n",
    "            j = min(n, i + B)\n",
    "\n",
    "            k = lookup[X_k[:, i:j], X_k[:, i:j].T]\n",
    "            k = np.dot(np.dot(H, k), H)\n",
    "            k = k / (np.linalg.norm(k, \"fro\") + 10e-10)\n",
    "\n",
    "            K[st:ed] = k.flatten()\n",
    "            st += B**2\n",
    "            ed += B**2\n",
    "\n",
    "    return K\n",
    "\n",
    "\n",
    "np.allclose(compute_kernel(X, \"Gaussian\", B=20, M=3), compute_kernel_1(X, B=20, M=3))"
   ]
  },
  {
   "cell_type": "code",
   "execution_count": 22,
   "metadata": {},
   "outputs": [
    {
     "name": "stdout",
     "output_type": "stream",
     "text": [
      "44.7 ms ± 669 µs per loop (mean ± std. dev. of 7 runs, 10 loops each)\n"
     ]
    }
   ],
   "source": [
    "%%timeit\n",
    "compute_kernel_1(X, B=20, M=3)"
   ]
  },
  {
   "cell_type": "code",
   "execution_count": 23,
   "metadata": {},
   "outputs": [
    {
     "data": {
      "text/plain": [
       "True"
      ]
     },
     "execution_count": 23,
     "metadata": {},
     "output_type": "execute_result"
    }
   ],
   "source": [
    "arr = np.array([[0, 1, 2]])\n",
    "x_std = X.std() + 1e-19\n",
    "lookup = kernel_gaussian(arr / x_std, arr / x_std, 1.0).astype(np.float32)\n",
    "\n",
    "\n",
    "def compute_kernel_2a(x, lookup, B=0, M=1, discarded=0):\n",
    "    _, n = x.shape\n",
    "    H = np.eye(B, dtype=np.float32) - np.full((B, B), 1 / B, dtype=np.float32)\n",
    "    K = np.zeros(n * B * M, dtype=np.float32)\n",
    "\n",
    "    st = 0\n",
    "    ed = B**2\n",
    "    index = np.arange(n)\n",
    "    for m in range(M):\n",
    "        np.random.seed(m)\n",
    "        index = np.random.permutation(index)\n",
    "        X_k = x[:, index]\n",
    "\n",
    "        for i in range(0, n - discarded, B):\n",
    "            j = min(n, i + B)\n",
    "\n",
    "            k = kernel_gaussian_5(X_k[:, i:j], lookup)\n",
    "            k = (H @ k) @ H\n",
    "            k = k / (np.sqrt(np.sum(k**2)) + 1e-9)\n",
    "\n",
    "            K[st:ed] = k.ravel()\n",
    "            st += B**2\n",
    "            ed += B**2\n",
    "\n",
    "    return K\n",
    "\n",
    "\n",
    "np.allclose(\n",
    "    compute_kernel(X, \"Gaussian\", B=20, M=3), compute_kernel_2a(X, lookup, B=20, M=3)\n",
    ")"
   ]
  },
  {
   "cell_type": "code",
   "execution_count": 24,
   "metadata": {},
   "outputs": [
    {
     "data": {
      "text/plain": [
       "False"
      ]
     },
     "execution_count": 24,
     "metadata": {},
     "output_type": "execute_result"
    }
   ],
   "source": [
    "compute_kernel_2b = njit(compute_kernel_2a)\n",
    "\n",
    "np.allclose(\n",
    "    compute_kernel(X, \"Gaussian\", B=20, M=3), compute_kernel_2b(X, lookup, B=20, M=3)\n",
    ")"
   ]
  },
  {
   "cell_type": "markdown",
   "metadata": {},
   "source": [
    "Unfortunately the acceletated version (using numba) of `compute_kernel_2a` doesn't\n",
    "return exactly the same results as the non-accelerated version. This is happening\n",
    "when the matrix $k$ is full of ones, such that $H . k . H$ should be only zeros.\n",
    "Due to differences in precision between the accelerated and non-accelerated versions,\n",
    "the normalized results are different (the matrix norm being very close to zeros).\n",
    "\n",
    "The following code explore in more details this corner case."
   ]
  },
  {
   "cell_type": "code",
   "execution_count": 25,
   "metadata": {},
   "outputs": [
    {
     "data": {
      "image/png": "[encoded data removed]",
      "text/plain": [
       "<Figure size 864x288 with 5 Axes>"
      ]
     },
     "metadata": {
      "needs_background": "light"
     },
     "output_type": "display_data"
    }
   ],
   "source": [
    "B = 20\n",
    "H = np.eye(B, dtype=np.float32) - np.full((B, B), 1 / B, dtype=np.float32)\n",
    "k = np.ones((B, B), dtype=np.float32)\n",
    "\n",
    "\n",
    "@njit\n",
    "def matmul(H, k):\n",
    "    return (H @ k) @ H\n",
    "\n",
    "\n",
    "numpy32_value = (H @ k) @ H\n",
    "numba32_value = matmul(H, k)\n",
    "\n",
    "H = H.astype(np.float64)\n",
    "k = k.astype(np.float64)\n",
    "\n",
    "numpy64_value = (H @ k) @ H\n",
    "numba64_value = matmul(H, k)\n",
    "\n",
    "fig, axes = plt.subplots(1, 4, figsize=(12, 4), sharex=True, sharey=True)\n",
    "\n",
    "vmax = np.max(np.abs([numpy32_value, numba32_value, numpy64_value, numba64_value]))\n",
    "vmin = -vmax\n",
    "\n",
    "im = axes[0].imshow(numpy32_value, vmin=vmin, vmax=vmax, cmap=\"bwr\")\n",
    "axes[0].set_title(\"numpy value (float32)\")\n",
    "\n",
    "axes[1].imshow(numba32_value, vmin=vmin, vmax=vmax, cmap=\"bwr\")\n",
    "axes[1].set_title(\"numba value (float32)\")\n",
    "\n",
    "axes[2].imshow(numpy64_value, vmin=vmin, vmax=vmax, cmap=\"bwr\")\n",
    "axes[2].set_title(\"numpy value (float64)\")\n",
    "\n",
    "axes[3].imshow(numba64_value, vmin=vmin, vmax=vmax, cmap=\"bwr\")\n",
    "axes[3].set_title(\"numba value (float64)\")\n",
    "\n",
    "fig.subplots_adjust(bottom=0.01)\n",
    "cbar_ax = fig.add_axes([0.1, 0, 0.8, 0.05])\n",
    "_ = fig.colorbar(im, cax=cbar_ax, orientation=\"horizontal\")"
   ]
  },
  {
   "cell_type": "code",
   "execution_count": 26,
   "metadata": {},
   "outputs": [
    {
     "data": {
      "image/png": "[encoded data removed]",
      "text/plain": [
       "<Figure size 432x288 with 1 Axes>"
      ]
     },
     "metadata": {
      "needs_background": "light"
     },
     "output_type": "display_data"
    }
   ],
   "source": [
    "def normed_values(x):\n",
    "    return x.ravel() / (np.sqrt(np.sum(x**2)) + 1e-9)\n",
    "\n",
    "\n",
    "plt.plot(normed_values(numpy32_value), label=\"numpy (float32)\")\n",
    "plt.plot(normed_values(numba32_value), label=\"numba (float32)\")\n",
    "plt.plot(normed_values(numpy64_value), label=\"numpy (float64)\")\n",
    "plt.plot(normed_values(numba64_value), label=\"numba (float64)\")\n",
    "_ = plt.legend()"
   ]
  },
  {
   "cell_type": "code",
   "execution_count": 27,
   "metadata": {},
   "outputs": [
    {
     "name": "stdout",
     "output_type": "stream",
     "text": [
      "7.77 ms ± 27.1 µs per loop (mean ± std. dev. of 7 runs, 100 loops each)\n"
     ]
    }
   ],
   "source": [
    "%%timeit\n",
    "compute_kernel_2b(X, lookup, B=20, M=3)"
   ]
  },
  {
   "cell_type": "code",
   "execution_count": 28,
   "metadata": {},
   "outputs": [
    {
     "name": "stderr",
     "output_type": "stream",
     "text": [
      "/home/riom/project/hsic_optimization/venv/lib/python3.8/site-packages/numba/np/ufunc/parallel.py:365: NumbaWarning: The TBB threading layer requires TBB version 2019.5 or later i.e., TBB_INTERFACE_VERSION >= 11005. Found TBB_INTERFACE_VERSION = 6103. The TBB threading layer is disabled.\n",
      "  warnings.warn(problem)\n"
     ]
    },
    {
     "data": {
      "text/plain": [
       "False"
      ]
     },
     "execution_count": 28,
     "metadata": {},
     "output_type": "execute_result"
    }
   ],
   "source": [
    "@njit(nogil=True)\n",
    "def kernel_gaussian_6(x, lookup):\n",
    "    n = len(x)\n",
    "    out = np.empty((n, n), dtype=lookup.dtype)\n",
    "    for i in range(n):\n",
    "        for j in range(i, n):\n",
    "            res = lookup[x[i], x[j]]\n",
    "            out[i, j] = res\n",
    "            out[j, i] = res\n",
    "    return out\n",
    "\n",
    "\n",
    "@njit(parallel=True)\n",
    "def compute_kernel_3(x, lookup, B=0, M=1, discarded=0):\n",
    "    _, n = x.shape\n",
    "    K = np.zeros(n * B * M, dtype=np.float32)\n",
    "    H = np.eye(B, dtype=np.float32) - np.full((B, B), 1 / B, dtype=np.float32)\n",
    "\n",
    "    index = np.arange(n)\n",
    "    for m in range(M):\n",
    "        np.random.seed(m)\n",
    "        index = np.random.permutation(index)\n",
    "        X_k = x[0][index]\n",
    "\n",
    "        for i in prange(n // B):\n",
    "            ik = i * B\n",
    "            jk = min(n, ik + B)\n",
    "\n",
    "            k = kernel_gaussian_6(X_k[ik:jk], lookup)\n",
    "            k = (H @ k) @ H\n",
    "            k = k / (np.sqrt(np.sum(k**2)) + 1e-9)\n",
    "\n",
    "            st = m * n * B + i * B**2\n",
    "            ed = st + B**2\n",
    "            K[st:ed] = k.ravel()\n",
    "\n",
    "    return K\n",
    "\n",
    "\n",
    "np.allclose(\n",
    "    compute_kernel(X, \"Gaussian\", B=20, M=3), compute_kernel_3(X, lookup, B=20, M=3)\n",
    ")"
   ]
  },
  {
   "cell_type": "code",
   "execution_count": 29,
   "metadata": {},
   "outputs": [
    {
     "name": "stdout",
     "output_type": "stream",
     "text": [
      "6.87 ms ± 98.1 µs per loop (mean ± std. dev. of 7 runs, 100 loops each)\n"
     ]
    }
   ],
   "source": [
    "%%timeit\n",
    "compute_kernel_3(X, lookup, B=20, M=3)"
   ]
  },
  {
   "cell_type": "code",
   "execution_count": 30,
   "metadata": {},
   "outputs": [],
   "source": [
    "X2 = generate_data(100000, 1, 1, seed=12345)[0].T"
   ]
  },
  {
   "cell_type": "code",
   "execution_count": 31,
   "metadata": {},
   "outputs": [
    {
     "name": "stdout",
     "output_type": "stream",
     "text": [
      "83.5 ms ± 2.1 ms per loop (mean ± std. dev. of 7 runs, 10 loops each)\n"
     ]
    }
   ],
   "source": [
    "%%timeit\n",
    "compute_kernel_2b(X2, lookup, B=20, M=3)"
   ]
  },
  {
   "cell_type": "code",
   "execution_count": 32,
   "metadata": {},
   "outputs": [
    {
     "name": "stdout",
     "output_type": "stream",
     "text": [
      "49.2 ms ± 1.29 ms per loop (mean ± std. dev. of 7 runs, 10 loops each)\n"
     ]
    }
   ],
   "source": [
    "%%timeit\n",
    "compute_kernel_3(X2, lookup, B=20, M=3)"
   ]
  },
  {
   "cell_type": "code",
   "execution_count": 33,
   "metadata": {},
   "outputs": [],
   "source": [
    "X3 = generate_data(1000000, 1, 1, seed=12345)[0].T"
   ]
  },
  {
   "cell_type": "code",
   "execution_count": 34,
   "metadata": {},
   "outputs": [
    {
     "name": "stdout",
     "output_type": "stream",
     "text": [
      "899 ms ± 14.2 ms per loop (mean ± std. dev. of 7 runs, 1 loop each)\n"
     ]
    }
   ],
   "source": [
    "%%timeit\n",
    "compute_kernel_2b(X3, lookup, B=20, M=3)"
   ]
  },
  {
   "cell_type": "code",
   "execution_count": 35,
   "metadata": {},
   "outputs": [
    {
     "name": "stdout",
     "output_type": "stream",
     "text": [
      "484 ms ± 8.05 ms per loop (mean ± std. dev. of 7 runs, 1 loop each)\n"
     ]
    }
   ],
   "source": [
    "%%timeit\n",
    "compute_kernel_3(X3, lookup, B=20, M=3)"
   ]
  },
  {
   "cell_type": "markdown",
   "metadata": {},
   "source": [
    "## Accelerate multiple features retrieval\n",
    "\n",
    "The scenario we want to accelerate here is when multiple features need to be\n",
    "computed."
   ]
  },
  {
   "cell_type": "code",
   "execution_count": 36,
   "metadata": {},
   "outputs": [],
   "source": [
    "B = 20\n",
    "M = 3"
   ]
  },
  {
   "cell_type": "code",
   "execution_count": 37,
   "metadata": {},
   "outputs": [
    {
     "data": {
      "text/plain": [
       "(10000, 100)"
      ]
     },
     "execution_count": 37,
     "metadata": {},
     "output_type": "execute_result"
    }
   ],
   "source": [
    "X, _ = generate_data(10000, 100, 20, seed=12345)\n",
    "X.shape"
   ]
  },
  {
   "cell_type": "code",
   "execution_count": 38,
   "metadata": {},
   "outputs": [],
   "source": [
    "np.random.seed(42)\n",
    "indices = np.random.choice(X.shape[1], 20, replace=False)"
   ]
  },
  {
   "cell_type": "markdown",
   "metadata": {},
   "source": [
    "We transpose the input $X$ just to make sure that we fetch columns as fast as\n",
    "possible."
   ]
  },
  {
   "cell_type": "code",
   "execution_count": 39,
   "metadata": {},
   "outputs": [
    {
     "data": {
      "text/plain": [
       "(100, 10000)"
      ]
     },
     "execution_count": 39,
     "metadata": {},
     "output_type": "execute_result"
    }
   ],
   "source": [
    "X = X.T.copy()\n",
    "X.shape"
   ]
  },
  {
   "cell_type": "markdown",
   "metadata": {},
   "source": [
    "The first version use an helper function to extract each column of the HSIC\n",
    "feature matrix and combine them using a simple list comprehension."
   ]
  },
  {
   "cell_type": "code",
   "execution_count": 40,
   "metadata": {
    "tags": []
   },
   "outputs": [],
   "source": [
    "def feature(X, B, M):\n",
    "    X = X.reshape(1, -1)\n",
    "\n",
    "    arr = np.array([[0, 1, 2]])\n",
    "    X_std = X.std() + 1e-19\n",
    "    lookup = kernel_gaussian(arr / X_std, arr / X_std, 1).astype(np.float32)\n",
    "\n",
    "    scale = np.sqrt(B / (X.size * M))\n",
    "    return compute_kernel_2b(X, lookup, B=B, M=M) * scale\n",
    "\n",
    "\n",
    "def features(seq, X, B, M):\n",
    "    return np.array([feature(X[i], B, M) for i in seq])"
   ]
  },
  {
   "cell_type": "code",
   "execution_count": 41,
   "metadata": {},
   "outputs": [
    {
     "name": "stdout",
     "output_type": "stream",
     "text": [
      "194 ms ± 6.52 ms per loop (mean ± std. dev. of 7 runs, 1 loop each)\n"
     ]
    }
   ],
   "source": [
    "%timeit features(indices, X, B, M)"
   ]
  },
  {
   "cell_type": "markdown",
   "metadata": {},
   "source": [
    "A second version constists in preallocating the result array, to save a copy and\n",
    "some memory."
   ]
  },
  {
   "cell_type": "code",
   "execution_count": 42,
   "metadata": {},
   "outputs": [
    {
     "data": {
      "text/plain": [
       "True"
      ]
     },
     "execution_count": 42,
     "metadata": {},
     "output_type": "execute_result"
    }
   ],
   "source": [
    "def features_2(seq, X, B, M):\n",
    "    cols = np.empty((len(seq), X.shape[1] * M * B), dtype=np.float32)\n",
    "    for i, idx in enumerate(seq):\n",
    "        cols[i] = feature(X[idx], B, M)\n",
    "    return cols\n",
    "\n",
    "\n",
    "np.allclose(features(indices, X, B, M), features_2(indices, X, B, M))"
   ]
  },
  {
   "cell_type": "code",
   "execution_count": 43,
   "metadata": {},
   "outputs": [
    {
     "name": "stdout",
     "output_type": "stream",
     "text": [
      "185 ms ± 1.22 ms per loop (mean ± std. dev. of 7 runs, 10 loops each)\n"
     ]
    }
   ],
   "source": [
    "%timeit features_2(indices, X, B, M)"
   ]
  },
  {
   "cell_type": "markdown",
   "metadata": {},
   "source": [
    "Another thing we can try is to use `numba` to accelerate the loop over features.\n",
    "We need to change the `feature` function to be jit-able too."
   ]
  },
  {
   "cell_type": "code",
   "execution_count": 44,
   "metadata": {},
   "outputs": [
    {
     "data": {
      "text/plain": [
       "True"
      ]
     },
     "execution_count": 44,
     "metadata": {},
     "output_type": "execute_result"
    }
   ],
   "source": [
    "kernel_gaussian_1b = njit(kernel_gaussian_1)\n",
    "\n",
    "\n",
    "@njit\n",
    "def feature_3(X, B, M):\n",
    "    X = X.reshape(1, -1)\n",
    "\n",
    "    arr = np.array([[0, 1, 2]])\n",
    "    X_std = X.std() + 1e-19\n",
    "    lookup = kernel_gaussian_1b(arr / X_std).astype(np.float32)\n",
    "\n",
    "    scale = np.sqrt(B / (X.size * M))\n",
    "    return compute_kernel_2b(X, lookup, B=B, M=M) * scale\n",
    "\n",
    "\n",
    "@njit\n",
    "def features_3(seq, X, B, M):\n",
    "    cols = np.empty((len(seq), X.shape[1] * M * B), dtype=np.float32)\n",
    "    for i, idx in enumerate(seq):\n",
    "        cols[i] = feature_3(X[idx], B, M)\n",
    "    return cols\n",
    "\n",
    "\n",
    "np.allclose(features(indices, X, B, M), features_3(indices, X, B, M))"
   ]
  },
  {
   "cell_type": "code",
   "execution_count": 45,
   "metadata": {},
   "outputs": [
    {
     "name": "stdout",
     "output_type": "stream",
     "text": [
      "199 ms ± 7.61 ms per loop (mean ± std. dev. of 7 runs, 1 loop each)\n"
     ]
    }
   ],
   "source": [
    "%timeit features_3(indices, X, B, M)"
   ]
  },
  {
   "cell_type": "markdown",
   "metadata": {},
   "source": [
    "The loop of features could be run in parallel using multiple threads, that's\n",
    "what we will try next."
   ]
  },
  {
   "cell_type": "code",
   "execution_count": 46,
   "metadata": {},
   "outputs": [
    {
     "data": {
      "text/plain": [
       "True"
      ]
     },
     "execution_count": 46,
     "metadata": {},
     "output_type": "execute_result"
    }
   ],
   "source": [
    "@njit(parallel=True)\n",
    "def features_4(seq, X, B, M):\n",
    "    cols = np.empty((len(seq), X.shape[1] * M * B), dtype=np.float32)\n",
    "    for i in prange(len(seq)):\n",
    "        idx = seq[i]\n",
    "        cols[i] = feature_3(X[idx], B, M)\n",
    "    return cols\n",
    "\n",
    "\n",
    "np.allclose(features(indices, X, B, M), features_4(indices, X, B, M))"
   ]
  },
  {
   "cell_type": "code",
   "execution_count": 47,
   "metadata": {},
   "outputs": [
    {
     "name": "stdout",
     "output_type": "stream",
     "text": [
      "97.4 ms ± 1.73 ms per loop (mean ± std. dev. of 7 runs, 10 loops each)\n"
     ]
    }
   ],
   "source": [
    "%timeit features_4(indices, X, B, M)"
   ]
  },
  {
   "cell_type": "markdown",
   "metadata": {},
   "source": [
    "This last version seems to be able to provide a good speed-up (almost 2X here)."
   ]
  }
 ],
 "metadata": {
  "kernelspec": {
   "display_name": "hsic_optimization",
   "language": "python",
   "name": "hsic_optimization"
  },
  "language_info": {
   "codemirror_mode": {
    "name": "ipython",
    "version": 3
   },
   "file_extension": ".py",
   "mimetype": "text/x-python",
   "name": "python",
   "nbconvert_exporter": "python",
   "pygments_lexer": "ipython3",
   "version": "3.10.14"
  }
 },
 "nbformat": 4,
 "nbformat_minor": 4
}
