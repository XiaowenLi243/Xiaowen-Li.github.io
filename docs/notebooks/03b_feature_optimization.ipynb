{
 "cells": [
  {
   "cell_type": "markdown",
   "metadata": {},
   "source": [
    "# Feature matrices optimization (cont.)\n",
    "\n",
    "In this notebook, I'll try to optimize even more the computation of one feature\n",
    "of the feature matrix used in the HSIC lasso algorithm.\n",
    "\n",
    "For this notebook, I focus the test case on an input of 1 million samples.\n",
    "\n",
    "I will focus on performances using CPU core, as the application is parallelized\n",
    "over features on many cores."
   ]
  },
  {
   "cell_type": "code",
   "execution_count": 1,
   "metadata": {},
   "outputs": [],
   "source": [
    "import numpy as np\n",
    "from pyHSICLasso.hsic_lasso import compute_kernel\n",
    "from pyHSICLasso.kernel_tools import kernel_gaussian\n",
    "from numba import njit, guvectorize\n",
    "\n",
    "from hsic_optimization.benchmark import generate_data"
   ]
  },
  {
   "cell_type": "code",
   "execution_count": 2,
   "metadata": {},
   "outputs": [
    {
     "data": {
      "text/plain": [
       "(1, 1000000)"
      ]
     },
     "execution_count": 2,
     "metadata": {},
     "output_type": "execute_result"
    }
   ],
   "source": [
    "X, _ = generate_data(1_000_000, 1, 1, seed=12345, transpose_X=True)\n",
    "X.shape"
   ]
  },
  {
   "cell_type": "markdown",
   "metadata": {},
   "source": [
    "For comparison purpose, let's compute the Gaussian kernel feature with pyHSICLasso."
   ]
  },
  {
   "cell_type": "code",
   "execution_count": 3,
   "metadata": {},
   "outputs": [
    {
     "name": "stdout",
     "output_type": "stream",
     "text": [
      "CPU times: user 13.9 s, sys: 70.4 ms, total: 13.9 s\n",
      "Wall time: 13.9 s\n"
     ]
    },
    {
     "data": {
      "text/plain": [
       "(60000000,)"
      ]
     },
     "execution_count": 3,
     "metadata": {},
     "output_type": "execute_result"
    }
   ],
   "source": [
    "%%time\n",
    "B = 20\n",
    "M = 3\n",
    "\n",
    "k_ref = compute_kernel(X, \"Gaussian\", B=B, M=M)\n",
    "k_ref.shape"
   ]
  },
  {
   "cell_type": "markdown",
   "metadata": {},
   "source": [
    "## Baseline function\n",
    "\n",
    "First, let's check the performance of the currently used method (at the time of\n",
    "writing)."
   ]
  },
  {
   "cell_type": "code",
   "execution_count": 4,
   "metadata": {},
   "outputs": [],
   "source": [
    "@njit\n",
    "def kernel_lookup_1(x, lookup):\n",
    "    n = len(x)\n",
    "    out = np.empty((n, n), dtype=lookup.dtype)\n",
    "    for i in range(n):\n",
    "        for j in range(i, n):\n",
    "            res = lookup[x[i], x[j]]\n",
    "            out[i, j] = res\n",
    "            out[j, i] = res\n",
    "    return out\n",
    "\n",
    "\n",
    "def compute_kernel_1(x, lookup, B=0, M=1, discarded=0):\n",
    "    n = len(x)\n",
    "    H = np.eye(B, dtype=np.float32) - np.float32(1 / B)\n",
    "    K = np.zeros(n * B * M, dtype=np.float32)\n",
    "\n",
    "    st = 0\n",
    "    ed = B**2\n",
    "    index = np.arange(n)\n",
    "    for m in range(M):\n",
    "        np.random.seed(m)\n",
    "        index = np.random.permutation(index)\n",
    "        X_k = x[index]\n",
    "\n",
    "        for i in range(0, n - discarded, B):\n",
    "            j = min(n, i + B)\n",
    "\n",
    "            k = kernel_lookup_1(X_k[i:j], lookup)\n",
    "            k = (H @ k) @ H\n",
    "            k = k / (np.sqrt(np.sum(k**2)) + 1e-9)\n",
    "\n",
    "            K[st:ed] = k.ravel()\n",
    "            st += B**2\n",
    "            ed += B**2\n",
    "\n",
    "    return K"
   ]
  },
  {
   "cell_type": "markdown",
   "metadata": {},
   "source": [
    "The lookup table for the Gaussian kernel needs to be computed once per input\n",
    "feature"
   ]
  },
  {
   "cell_type": "code",
   "execution_count": 5,
   "metadata": {},
   "outputs": [],
   "source": [
    "arr = np.array([[0, 1, 2]])\n",
    "x_std = X.std() + 1e-19\n",
    "lookup = kernel_gaussian(arr / x_std, arr / x_std, 1.0).astype(np.float32)"
   ]
  },
  {
   "cell_type": "code",
   "execution_count": 6,
   "metadata": {},
   "outputs": [
    {
     "data": {
      "text/plain": [
       "True"
      ]
     },
     "execution_count": 6,
     "metadata": {},
     "output_type": "execute_result"
    }
   ],
   "source": [
    "k_1 = compute_kernel_1(X[0], lookup, B, M)\n",
    "np.allclose(k_ref, k_1)"
   ]
  },
  {
   "cell_type": "markdown",
   "metadata": {},
   "source": [
    "Unfortunately, the accelerated version has a different numerical precision, such\n",
    "that the results are not matching anymore.\n",
    "\n",
    "Actually, it looks like this version has a better numerical precision that the\n",
    "reference code. More details are available in the\n",
    "[Feature matrices optimization](03a_feature_optimization.ipynb) notebook."
   ]
  },
  {
   "cell_type": "code",
   "execution_count": 7,
   "metadata": {},
   "outputs": [
    {
     "data": {
      "text/plain": [
       "True"
      ]
     },
     "execution_count": 7,
     "metadata": {},
     "output_type": "execute_result"
    }
   ],
   "source": [
    "compute_kernel_1b = njit(compute_kernel_1)\n",
    "k_1b = compute_kernel_1b(X[0], lookup, B, M)\n",
    "np.allclose(k_ref, k_1b)"
   ]
  },
  {
   "cell_type": "code",
   "execution_count": 8,
   "metadata": {},
   "outputs": [
    {
     "name": "stdout",
     "output_type": "stream",
     "text": [
      "744 ms ± 10.6 ms per loop (mean ± std. dev. of 7 runs, 1 loop each)\n"
     ]
    }
   ],
   "source": [
    "%timeit compute_kernel_1b(X[0], lookup, B, M)"
   ]
  },
  {
   "cell_type": "markdown",
   "metadata": {},
   "source": [
    "A first quick win could be to use the `fastmath` option, if this doesn't change\n",
    "the results too much from the first accelerated version."
   ]
  },
  {
   "cell_type": "code",
   "execution_count": 9,
   "metadata": {},
   "outputs": [
    {
     "data": {
      "text/plain": [
       "True"
      ]
     },
     "execution_count": 9,
     "metadata": {},
     "output_type": "execute_result"
    }
   ],
   "source": [
    "compute_kernel_1c = njit(fastmath=True)(compute_kernel_1)\n",
    "k_1c = compute_kernel_1c(X[0], lookup, B, M)\n",
    "np.allclose(k_1b, k_1c)"
   ]
  },
  {
   "cell_type": "code",
   "execution_count": 10,
   "metadata": {},
   "outputs": [
    {
     "name": "stdout",
     "output_type": "stream",
     "text": [
      "730 ms ± 33.1 ms per loop (mean ± std. dev. of 7 runs, 1 loop each)\n"
     ]
    }
   ],
   "source": [
    "%timeit compute_kernel_1c(X[0], lookup, B, M)"
   ]
  },
  {
   "cell_type": "markdown",
   "metadata": {},
   "source": [
    "As the inputs are only 0, 1 and 2, we can also use a simpler datatype for X."
   ]
  },
  {
   "cell_type": "code",
   "execution_count": 11,
   "metadata": {},
   "outputs": [
    {
     "data": {
      "text/plain": [
       "True"
      ]
     },
     "execution_count": 11,
     "metadata": {},
     "output_type": "execute_result"
    }
   ],
   "source": [
    "X2 = X.astype(np.int8)\n",
    "k_1d = compute_kernel_1c(X2[0], lookup, B, M)\n",
    "np.allclose(k_1b, k_1d)"
   ]
  },
  {
   "cell_type": "code",
   "execution_count": 12,
   "metadata": {},
   "outputs": [
    {
     "name": "stdout",
     "output_type": "stream",
     "text": [
      "693 ms ± 25.9 ms per loop (mean ± std. dev. of 7 runs, 1 loop each)\n"
     ]
    }
   ],
   "source": [
    "%timeit compute_kernel_1c(X2[0], lookup, B, M)"
   ]
  },
  {
   "cell_type": "code",
   "execution_count": 13,
   "metadata": {},
   "outputs": [
    {
     "data": {
      "text/plain": [
       "True"
      ]
     },
     "execution_count": 13,
     "metadata": {},
     "output_type": "execute_result"
    }
   ],
   "source": [
    "X3 = X.astype(np.uint8)\n",
    "k_1e = compute_kernel_1c(X3[0], lookup, B, M)\n",
    "np.allclose(k_1b, k_1e)"
   ]
  },
  {
   "cell_type": "code",
   "execution_count": 14,
   "metadata": {},
   "outputs": [
    {
     "name": "stdout",
     "output_type": "stream",
     "text": [
      "690 ms ± 17.9 ms per loop (mean ± std. dev. of 7 runs, 1 loop each)\n"
     ]
    }
   ],
   "source": [
    "%timeit compute_kernel_1c(X3[0], lookup, B, M)"
   ]
  },
  {
   "cell_type": "markdown",
   "metadata": {},
   "source": [
    "## Universal function\n",
    "\n",
    "An other approach is to convert the core loop as a universal function and see\n",
    "if this can improve the performances."
   ]
  },
  {
   "cell_type": "code",
   "execution_count": 15,
   "metadata": {},
   "outputs": [],
   "source": [
    "@guvectorize(\n",
    "    [\"u1[:], f4[:, :], f4[:, :]\"], \"(B),(N,N)->(B,B)\", nopython=True, fastmath=True\n",
    ")\n",
    "def kernel_lookup_2(x, lookup, res):\n",
    "    k = kernel_lookup_1(x, lookup)\n",
    "    H = np.eye(B, dtype=np.float32) - np.float32(1 / B)\n",
    "    k = (H @ k) @ H\n",
    "    res[:] = k / (np.sqrt(np.sum(k**2)) + 1e-9)\n",
    "\n",
    "\n",
    "def compute_kernel_2(x, lookup, B=0, M=1, discarded=0):\n",
    "    K = []\n",
    "\n",
    "    index = np.arange(len(x))\n",
    "    for m in range(M):\n",
    "        np.random.seed(m)\n",
    "        index = np.random.permutation(index)\n",
    "        X_k = x[index].reshape(-1, B).copy()\n",
    "        K_k = kernel_lookup_2(X_k, lookup)\n",
    "        K.append(K_k.ravel())\n",
    "\n",
    "    K = np.concatenate(K)\n",
    "\n",
    "    return K"
   ]
  },
  {
   "cell_type": "code",
   "execution_count": 16,
   "metadata": {},
   "outputs": [
    {
     "data": {
      "text/plain": [
       "True"
      ]
     },
     "execution_count": 16,
     "metadata": {},
     "output_type": "execute_result"
    }
   ],
   "source": [
    "k_2 = compute_kernel_2(X3[0], lookup, B, M)\n",
    "np.allclose(k_1b, k_2)"
   ]
  },
  {
   "cell_type": "code",
   "execution_count": 17,
   "metadata": {},
   "outputs": [
    {
     "name": "stdout",
     "output_type": "stream",
     "text": [
      "818 ms ± 27.7 ms per loop (mean ± std. dev. of 7 runs, 1 loop each)\n"
     ]
    }
   ],
   "source": [
    "%timeit compute_kernel_2(X3[0], lookup, B, M)"
   ]
  },
  {
   "cell_type": "code",
   "execution_count": 18,
   "metadata": {},
   "outputs": [],
   "source": [
    "def compute_kernel_3(x, lookup, B=0, M=1, discarded=0):\n",
    "    n = len(x)\n",
    "    K = np.zeros(n * B * M, dtype=np.float32)\n",
    "\n",
    "    i = 0\n",
    "\n",
    "    index = np.arange(len(x))\n",
    "    for m in range(M):\n",
    "        np.random.seed(m)\n",
    "        index = np.random.permutation(index)\n",
    "        X_k = x[index].reshape(-1, B).copy()\n",
    "\n",
    "        K_k = kernel_lookup_2(X_k, lookup)\n",
    "        K[i : i + n * B] = K_k.ravel()\n",
    "        i += n * B\n",
    "\n",
    "    return K"
   ]
  },
  {
   "cell_type": "code",
   "execution_count": 19,
   "metadata": {},
   "outputs": [
    {
     "data": {
      "text/plain": [
       "True"
      ]
     },
     "execution_count": 19,
     "metadata": {},
     "output_type": "execute_result"
    }
   ],
   "source": [
    "k_3 = compute_kernel_3(X3[0], lookup, B, M)\n",
    "np.allclose(k_1b, k_3)"
   ]
  },
  {
   "cell_type": "code",
   "execution_count": 20,
   "metadata": {},
   "outputs": [
    {
     "name": "stdout",
     "output_type": "stream",
     "text": [
      "798 ms ± 2.04 ms per loop (mean ± std. dev. of 7 runs, 1 loop each)\n"
     ]
    }
   ],
   "source": [
    "%timeit compute_kernel_3(X3[0], lookup, B, M)"
   ]
  },
  {
   "cell_type": "markdown",
   "metadata": {},
   "source": [
    "## Linear algebra libraries\n",
    "\n",
    "Let's double check which version of BLAS is used."
   ]
  },
  {
   "cell_type": "code",
   "execution_count": 21,
   "metadata": {},
   "outputs": [
    {
     "name": "stdout",
     "output_type": "stream",
     "text": [
      "blas_mkl_info:\n",
      "    libraries = ['mkl_rt', 'pthread']\n",
      "    library_dirs = ['/scale_wlg_persistent/filesets/project/nesi99999/riom/hsic_optimization/venv/lib']\n",
      "    define_macros = [('SCIPY_MKL_H', None), ('HAVE_CBLAS', None)]\n",
      "    include_dirs = ['/scale_wlg_persistent/filesets/project/nesi99999/riom/hsic_optimization/venv/include']\n",
      "blas_opt_info:\n",
      "    libraries = ['mkl_rt', 'pthread']\n",
      "    library_dirs = ['/scale_wlg_persistent/filesets/project/nesi99999/riom/hsic_optimization/venv/lib']\n",
      "    define_macros = [('SCIPY_MKL_H', None), ('HAVE_CBLAS', None)]\n",
      "    include_dirs = ['/scale_wlg_persistent/filesets/project/nesi99999/riom/hsic_optimization/venv/include']\n",
      "lapack_mkl_info:\n",
      "    libraries = ['mkl_rt', 'pthread']\n",
      "    library_dirs = ['/scale_wlg_persistent/filesets/project/nesi99999/riom/hsic_optimization/venv/lib']\n",
      "    define_macros = [('SCIPY_MKL_H', None), ('HAVE_CBLAS', None)]\n",
      "    include_dirs = ['/scale_wlg_persistent/filesets/project/nesi99999/riom/hsic_optimization/venv/include']\n",
      "lapack_opt_info:\n",
      "    libraries = ['mkl_rt', 'pthread']\n",
      "    library_dirs = ['/scale_wlg_persistent/filesets/project/nesi99999/riom/hsic_optimization/venv/lib']\n",
      "    define_macros = [('SCIPY_MKL_H', None), ('HAVE_CBLAS', None)]\n",
      "    include_dirs = ['/scale_wlg_persistent/filesets/project/nesi99999/riom/hsic_optimization/venv/include']\n"
     ]
    }
   ],
   "source": [
    "np.show_config()"
   ]
  }
 ],
 "metadata": {
  "kernelspec": {
   "display_name": "hsic_optimization",
   "language": "python",
   "name": "hsic_optimization"
  },
  "language_info": {
   "codemirror_mode": {
    "name": "ipython",
    "version": 3
   },
   "file_extension": ".py",
   "mimetype": "text/x-python",
   "name": "python",
   "nbconvert_exporter": "python",
   "pygments_lexer": "ipython3",
   "version": "3.10.14"
  }
 },
 "nbformat": 4,
 "nbformat_minor": 4
}
