{
 "cells": [
  {
   "cell_type": "markdown",
   "id": "72abf18b",
   "metadata": {},
   "source": [
    "# Dask Parallelization\n",
    "\n",
    "In this notebook, we will explore the performance of the coordinate descent solver\n",
    "when it uses Dask to parallelize the most time-consuming parts."
   ]
  },
  {
   "cell_type": "code",
   "execution_count": 1,
   "id": "8e2a2619",
   "metadata": {},
   "outputs": [],
   "source": [
    "import numpy as np\n",
    "import dask\n",
    "import dask.array as da\n",
    "from dask.distributed import Client, LocalCluster\n",
    "from dask_jobqueue import SLURMCluster\n",
    "from memory_profiler import memory_usage\n",
    "import matplotlib.pyplot as plt\n",
    "\n",
    "from hsic_optimization.benchmark import generate_data\n",
    "from hsic_optimization.hsic_lasso import cd_hsic_lasso, feature_accel\n",
    "from hsic_optimization.optimization import cd_nn_lasso_path  # NOQA"
   ]
  },
  {
   "cell_type": "markdown",
   "id": "e7ee73cf",
   "metadata": {},
   "source": [
    "The following configuration ensures that Dask doesn't use storage space when a\n",
    "runner run out of memory."
   ]
  },
  {
   "cell_type": "code",
   "execution_count": 2,
   "id": "f353ae05",
   "metadata": {},
   "outputs": [],
   "source": [
    "_ = dask.config.set(\n",
    "    {\n",
    "        \"distributed.worker.memory.target\": False,  # avoid spilling to disk\n",
    "        \"distributed.worker.memory.spill\": False,  # avoid spilling to disk\n",
    "    }\n",
    ")"
   ]
  },
  {
   "cell_type": "markdown",
   "id": "5a9c8907",
   "metadata": {},
   "source": [
    "## Dataset and parameter generation\n",
    "\n",
    "We generate a large enough dataset to make it challenging for the current\n",
    "implementation."
   ]
  },
  {
   "cell_type": "code",
   "execution_count": 3,
   "id": "a6607638",
   "metadata": {},
   "outputs": [],
   "source": [
    "block_size = 20\n",
    "n_repeats = 3\n",
    "\n",
    "n_samples = 20000\n",
    "n_features = 1000\n",
    "n_active = 10\n",
    "\n",
    "X, Y = generate_data(n_samples, n_features, n_active, seed=1234, transpose_X=True)"
   ]
  },
  {
   "cell_type": "markdown",
   "id": "445a35f1",
   "metadata": {},
   "source": [
    "And we define the CD solver parameters common to all tested cases."
   ]
  },
  {
   "cell_type": "code",
   "execution_count": 4,
   "id": "20cf06a9",
   "metadata": {},
   "outputs": [],
   "source": [
    "cd_hsic_kwargs = {\n",
    "    \"Y\": Y,\n",
    "    \"B\": block_size,\n",
    "    \"M\": n_repeats,\n",
    "    \"num_feat\": 10,\n",
    "    \"feature\": feature_accel,\n",
    "}"
   ]
  },
  {
   "cell_type": "markdown",
   "id": "c4df4117",
   "metadata": {},
   "source": [
    "## Serial code"
   ]
  },
  {
   "cell_type": "code",
   "execution_count": 5,
   "id": "512efb18",
   "metadata": {},
   "outputs": [
    {
     "name": "stdout",
     "output_type": "stream",
     "text": [
      "CPU times: user 6min 38s, sys: 264 ms, total: 6min 38s\n",
      "Wall time: 6min 39s\n"
     ]
    },
    {
     "data": {
      "image/png": "[encoded data removed]",
      "text/plain": [
       "<Figure size 864x360 with 1 Axes>"
      ]
     },
     "metadata": {
      "needs_background": "light"
     },
     "output_type": "display_data"
    }
   ],
   "source": [
    "%%time\n",
    "mem_use, (path_serial, beta_serial, lams_serial) = memory_usage(\n",
    "    (cd_hsic_lasso, (X,), cd_hsic_kwargs), retval=True\n",
    ")\n",
    "\n",
    "_, ax = plt.subplots(figsize=(12, 5))\n",
    "ax.plot(mem_use, \"-o\")\n",
    "ax.grid(True)\n",
    "_ = ax.set_ylabel(\"memory usage (MiB)\")"
   ]
  },
  {
   "cell_type": "markdown",
   "id": "50739078",
   "metadata": {},
   "source": [
    "## Processed-based parallelism"
   ]
  },
  {
   "cell_type": "code",
   "execution_count": 6,
   "id": "54fa6d91",
   "metadata": {},
   "outputs": [],
   "source": [
    "cluster = LocalCluster(\n",
    "    n_workers=4,\n",
    "    threads_per_worker=1,\n",
    "    memory_limit=\"1GiB\",\n",
    "    processes=True,\n",
    "    local_directory=\"../dask\",\n",
    ")\n",
    "client = Client(cluster)"
   ]
  },
  {
   "cell_type": "code",
   "execution_count": 7,
   "id": "4d26aa60-9400-493f-bdc6-f641e1221641",
   "metadata": {},
   "outputs": [
    {
     "data": {
      "text/html": [
       "<div>\n",
       "    <div style=\"width: 24px; height: 24px; background-color: #e1e1e1; border: 3px solid #9D9D9D; border-radius: 5px; position: absolute;\"> </div>\n",
       "    <div style=\"margin-left: 48px;\">\n",
       "        <h3 style=\"margin-bottom: 0px;\">Client</h3>\n",
       "        <p style=\"color: #9D9D9D; margin-bottom: 0px;\">Client-b3540648-39fb-11ec-a04c-80000028fe80</p>\n",
       "        <table style=\"width: 100%; text-align: left;\">\n",
       "\n",
       "        <tr>\n",
       "        \n",
       "            <td style=\"text-align: left;\"><strong>Connection method:</strong> Cluster object</td>\n",
       "            <td style=\"text-align: left;\"><strong>Cluster type:</strong> distributed.LocalCluster</td>\n",
       "        \n",
       "        </tr>\n",
       "\n",
       "        \n",
       "            <tr>\n",
       "                <td style=\"text-align: left;\">\n",
       "                    <strong>Dashboard: </strong> <a href=\"http://127.0.0.1:8787/status\" target=\"_blank\">http://127.0.0.1:8787/status</a>\n",
       "                </td>\n",
       "                <td style=\"text-align: left;\"></td>\n",
       "            </tr>\n",
       "        \n",
       "\n",
       "        </table>\n",
       "\n",
       "        \n",
       "            <details>\n",
       "            <summary style=\"margin-bottom: 20px;\"><h3 style=\"display: inline;\">Cluster Info</h3></summary>\n",
       "            <div class=\"jp-RenderedHTMLCommon jp-RenderedHTML jp-mod-trusted jp-OutputArea-output\">\n",
       "    <div style=\"width: 24px; height: 24px; background-color: #e1e1e1; border: 3px solid #9D9D9D; border-radius: 5px; position: absolute;\">\n",
       "    </div>\n",
       "    <div style=\"margin-left: 48px;\">\n",
       "        <h3 style=\"margin-bottom: 0px; margin-top: 0px;\">LocalCluster</h3>\n",
       "        <p style=\"color: #9D9D9D; margin-bottom: 0px;\">3bfb7bac</p>\n",
       "        <table style=\"width: 100%; text-align: left;\">\n",
       "            <tr>\n",
       "                <td style=\"text-align: left;\">\n",
       "                    <strong>Dashboard:</strong> <a href=\"http://127.0.0.1:8787/status\" target=\"_blank\">http://127.0.0.1:8787/status</a>\n",
       "                </td>\n",
       "                <td style=\"text-align: left;\">\n",
       "                    <strong>Workers:</strong> 4\n",
       "                </td>\n",
       "            </tr>\n",
       "            <tr>\n",
       "                <td style=\"text-align: left;\">\n",
       "                    <strong>Total threads:</strong> 4\n",
       "                </td>\n",
       "                <td style=\"text-align: left;\">\n",
       "                    <strong>Total memory:</strong> 4.00 GiB\n",
       "                </td>\n",
       "            </tr>\n",
       "            \n",
       "            <tr>\n",
       "    <td style=\"text-align: left;\"><strong>Status:</strong> running</td>\n",
       "    <td style=\"text-align: left;\"><strong>Using processes:</strong> True</td>\n",
       "</tr>\n",
       "\n",
       "            \n",
       "        </table>\n",
       "\n",
       "        <details>\n",
       "            <summary style=\"margin-bottom: 20px;\">\n",
       "                <h3 style=\"display: inline;\">Scheduler Info</h3>\n",
       "            </summary>\n",
       "\n",
       "            <div style=\"\">\n",
       "    <div>\n",
       "        <div style=\"width: 24px; height: 24px; background-color: #FFF7E5; border: 3px solid #FF6132; border-radius: 5px; position: absolute;\"> </div>\n",
       "        <div style=\"margin-left: 48px;\">\n",
       "            <h3 style=\"margin-bottom: 0px;\">Scheduler</h3>\n",
       "            <p style=\"color: #9D9D9D; margin-bottom: 0px;\">Scheduler-7c71bf5e-acb6-403d-a755-e8f2b6052be3</p>\n",
       "            <table style=\"width: 100%; text-align: left;\">\n",
       "                <tr>\n",
       "                    <td style=\"text-align: left;\">\n",
       "                        <strong>Comm:</strong> tcp://127.0.0.1:43240\n",
       "                    </td>\n",
       "                    <td style=\"text-align: left;\">\n",
       "                        <strong>Workers:</strong> 4\n",
       "                    </td>\n",
       "                </tr>\n",
       "                <tr>\n",
       "                    <td style=\"text-align: left;\">\n",
       "                        <strong>Dashboard:</strong> <a href=\"http://127.0.0.1:8787/status\" target=\"_blank\">http://127.0.0.1:8787/status</a>\n",
       "                    </td>\n",
       "                    <td style=\"text-align: left;\">\n",
       "                        <strong>Total threads:</strong> 4\n",
       "                    </td>\n",
       "                </tr>\n",
       "                <tr>\n",
       "                    <td style=\"text-align: left;\">\n",
       "                        <strong>Started:</strong> Just now\n",
       "                    </td>\n",
       "                    <td style=\"text-align: left;\">\n",
       "                        <strong>Total memory:</strong> 4.00 GiB\n",
       "                    </td>\n",
       "                </tr>\n",
       "            </table>\n",
       "        </div>\n",
       "    </div>\n",
       "\n",
       "    <details style=\"margin-left: 48px;\">\n",
       "        <summary style=\"margin-bottom: 20px;\">\n",
       "            <h3 style=\"display: inline;\">Workers</h3>\n",
       "        </summary>\n",
       "\n",
       "        \n",
       "        <div style=\"margin-bottom: 20px;\">\n",
       "            <div style=\"width: 24px; height: 24px; background-color: #DBF5FF; border: 3px solid #4CC9FF; border-radius: 5px; position: absolute;\"> </div>\n",
       "            <div style=\"margin-left: 48px;\">\n",
       "            <details>\n",
       "                <summary>\n",
       "                    <h4 style=\"margin-bottom: 0px; display: inline;\">Worker: 0</h4>\n",
       "                </summary>\n",
       "                <table style=\"width: 100%; text-align: left;\">\n",
       "                    <tr>\n",
       "                        <td style=\"text-align: left;\">\n",
       "                            <strong>Comm: </strong> tcp://192.168.94.148:36734\n",
       "                        </td>\n",
       "                        <td style=\"text-align: left;\">\n",
       "                            <strong>Total threads: </strong> 1\n",
       "                        </td>\n",
       "                    </tr>\n",
       "                    <tr>\n",
       "                        <td style=\"text-align: left;\">\n",
       "                            <strong>Dashboard: </strong> <a href=\"http://192.168.94.148:35154/status\" target=\"_blank\">http://192.168.94.148:35154/status</a>\n",
       "                        </td>\n",
       "                        <td style=\"text-align: left;\">\n",
       "                            <strong>Memory: </strong> 1.00 GiB\n",
       "                        </td>\n",
       "                    </tr>\n",
       "                    <tr>\n",
       "                        <td style=\"text-align: left;\">\n",
       "                            <strong>Nanny: </strong> tcp://127.0.0.1:46300\n",
       "                        </td>\n",
       "                        <td style=\"text-align: left;\"></td>\n",
       "                    </tr>\n",
       "                    <tr>\n",
       "                        <td colspan=\"2\" style=\"text-align: left;\">\n",
       "                            <strong>Local directory: </strong> /scale_wlg_persistent/filesets/project/nesi99999/riom/hsic_optimization/dask/dask-worker-space/worker-jo6bnqie\n",
       "                        </td>\n",
       "                    </tr>\n",
       "\n",
       "                    \n",
       "\n",
       "                    \n",
       "\n",
       "                </table>\n",
       "            </details>\n",
       "            </div>\n",
       "        </div>\n",
       "        \n",
       "        <div style=\"margin-bottom: 20px;\">\n",
       "            <div style=\"width: 24px; height: 24px; background-color: #DBF5FF; border: 3px solid #4CC9FF; border-radius: 5px; position: absolute;\"> </div>\n",
       "            <div style=\"margin-left: 48px;\">\n",
       "            <details>\n",
       "                <summary>\n",
       "                    <h4 style=\"margin-bottom: 0px; display: inline;\">Worker: 1</h4>\n",
       "                </summary>\n",
       "                <table style=\"width: 100%; text-align: left;\">\n",
       "                    <tr>\n",
       "                        <td style=\"text-align: left;\">\n",
       "                            <strong>Comm: </strong> tcp://192.168.94.148:46452\n",
       "                        </td>\n",
       "                        <td style=\"text-align: left;\">\n",
       "                            <strong>Total threads: </strong> 1\n",
       "                        </td>\n",
       "                    </tr>\n",
       "                    <tr>\n",
       "                        <td style=\"text-align: left;\">\n",
       "                            <strong>Dashboard: </strong> <a href=\"http://192.168.94.148:43082/status\" target=\"_blank\">http://192.168.94.148:43082/status</a>\n",
       "                        </td>\n",
       "                        <td style=\"text-align: left;\">\n",
       "                            <strong>Memory: </strong> 1.00 GiB\n",
       "                        </td>\n",
       "                    </tr>\n",
       "                    <tr>\n",
       "                        <td style=\"text-align: left;\">\n",
       "                            <strong>Nanny: </strong> tcp://127.0.0.1:40878\n",
       "                        </td>\n",
       "                        <td style=\"text-align: left;\"></td>\n",
       "                    </tr>\n",
       "                    <tr>\n",
       "                        <td colspan=\"2\" style=\"text-align: left;\">\n",
       "                            <strong>Local directory: </strong> /scale_wlg_persistent/filesets/project/nesi99999/riom/hsic_optimization/dask/dask-worker-space/worker-2mjs9l2u\n",
       "                        </td>\n",
       "                    </tr>\n",
       "\n",
       "                    \n",
       "\n",
       "                    \n",
       "\n",
       "                </table>\n",
       "            </details>\n",
       "            </div>\n",
       "        </div>\n",
       "        \n",
       "        <div style=\"margin-bottom: 20px;\">\n",
       "            <div style=\"width: 24px; height: 24px; background-color: #DBF5FF; border: 3px solid #4CC9FF; border-radius: 5px; position: absolute;\"> </div>\n",
       "            <div style=\"margin-left: 48px;\">\n",
       "            <details>\n",
       "                <summary>\n",
       "                    <h4 style=\"margin-bottom: 0px; display: inline;\">Worker: 2</h4>\n",
       "                </summary>\n",
       "                <table style=\"width: 100%; text-align: left;\">\n",
       "                    <tr>\n",
       "                        <td style=\"text-align: left;\">\n",
       "                            <strong>Comm: </strong> tcp://192.168.94.148:41927\n",
       "                        </td>\n",
       "                        <td style=\"text-align: left;\">\n",
       "                            <strong>Total threads: </strong> 1\n",
       "                        </td>\n",
       "                    </tr>\n",
       "                    <tr>\n",
       "                        <td style=\"text-align: left;\">\n",
       "                            <strong>Dashboard: </strong> <a href=\"http://192.168.94.148:39379/status\" target=\"_blank\">http://192.168.94.148:39379/status</a>\n",
       "                        </td>\n",
       "                        <td style=\"text-align: left;\">\n",
       "                            <strong>Memory: </strong> 1.00 GiB\n",
       "                        </td>\n",
       "                    </tr>\n",
       "                    <tr>\n",
       "                        <td style=\"text-align: left;\">\n",
       "                            <strong>Nanny: </strong> tcp://127.0.0.1:38607\n",
       "                        </td>\n",
       "                        <td style=\"text-align: left;\"></td>\n",
       "                    </tr>\n",
       "                    <tr>\n",
       "                        <td colspan=\"2\" style=\"text-align: left;\">\n",
       "                            <strong>Local directory: </strong> /scale_wlg_persistent/filesets/project/nesi99999/riom/hsic_optimization/dask/dask-worker-space/worker-gle0q6fp\n",
       "                        </td>\n",
       "                    </tr>\n",
       "\n",
       "                    \n",
       "\n",
       "                    \n",
       "\n",
       "                </table>\n",
       "            </details>\n",
       "            </div>\n",
       "        </div>\n",
       "        \n",
       "        <div style=\"margin-bottom: 20px;\">\n",
       "            <div style=\"width: 24px; height: 24px; background-color: #DBF5FF; border: 3px solid #4CC9FF; border-radius: 5px; position: absolute;\"> </div>\n",
       "            <div style=\"margin-left: 48px;\">\n",
       "            <details>\n",
       "                <summary>\n",
       "                    <h4 style=\"margin-bottom: 0px; display: inline;\">Worker: 3</h4>\n",
       "                </summary>\n",
       "                <table style=\"width: 100%; text-align: left;\">\n",
       "                    <tr>\n",
       "                        <td style=\"text-align: left;\">\n",
       "                            <strong>Comm: </strong> tcp://192.168.94.148:37126\n",
       "                        </td>\n",
       "                        <td style=\"text-align: left;\">\n",
       "                            <strong>Total threads: </strong> 1\n",
       "                        </td>\n",
       "                    </tr>\n",
       "                    <tr>\n",
       "                        <td style=\"text-align: left;\">\n",
       "                            <strong>Dashboard: </strong> <a href=\"http://192.168.94.148:39580/status\" target=\"_blank\">http://192.168.94.148:39580/status</a>\n",
       "                        </td>\n",
       "                        <td style=\"text-align: left;\">\n",
       "                            <strong>Memory: </strong> 1.00 GiB\n",
       "                        </td>\n",
       "                    </tr>\n",
       "                    <tr>\n",
       "                        <td style=\"text-align: left;\">\n",
       "                            <strong>Nanny: </strong> tcp://127.0.0.1:34358\n",
       "                        </td>\n",
       "                        <td style=\"text-align: left;\"></td>\n",
       "                    </tr>\n",
       "                    <tr>\n",
       "                        <td colspan=\"2\" style=\"text-align: left;\">\n",
       "                            <strong>Local directory: </strong> /scale_wlg_persistent/filesets/project/nesi99999/riom/hsic_optimization/dask/dask-worker-space/worker-97l6nhyz\n",
       "                        </td>\n",
       "                    </tr>\n",
       "\n",
       "                    \n",
       "\n",
       "                    \n",
       "\n",
       "                </table>\n",
       "            </details>\n",
       "            </div>\n",
       "        </div>\n",
       "        \n",
       "\n",
       "    </details>\n",
       "</div>\n",
       "\n",
       "        </details>\n",
       "    </div>\n",
       "</div>\n",
       "            </details>\n",
       "        \n",
       "\n",
       "    </div>\n",
       "</div>"
      ],
      "text/plain": [
       "<Client: 'tcp://127.0.0.1:43240' processes=4 threads=4, memory=4.00 GiB>"
      ]
     },
     "execution_count": 7,
     "metadata": {},
     "output_type": "execute_result"
    }
   ],
   "source": [
    "client"
   ]
  },
  {
   "cell_type": "code",
   "execution_count": 8,
   "id": "b5c03a7c-3e9a-41fb-ab8c-427ddba4179c",
   "metadata": {},
   "outputs": [],
   "source": [
    "X_dist = da.from_array(X, chunks={0: 20})"
   ]
  },
  {
   "cell_type": "code",
   "execution_count": 9,
   "id": "5facf4c0-2178-4c77-a1e4-680c3b9b2325",
   "metadata": {},
   "outputs": [
    {
     "data": {
      "text/html": [
       "<table>\n",
       "    <tr>\n",
       "        <td>\n",
       "            <table>\n",
       "                <thead>\n",
       "                    <tr>\n",
       "                        <td> </td>\n",
       "                        <th> Array </th>\n",
       "                        <th> Chunk </th>\n",
       "                    </tr>\n",
       "                </thead>\n",
       "                <tbody>\n",
       "                    \n",
       "                    <tr>\n",
       "                        <th> Bytes </th>\n",
       "                        <td> 152.59 MiB </td>\n",
       "                        <td> 3.05 MiB </td>\n",
       "                    </tr>\n",
       "                    \n",
       "                    <tr>\n",
       "                        <th> Shape </th>\n",
       "                        <td> (1000, 20000) </td>\n",
       "                        <td> (20, 20000) </td>\n",
       "                    </tr>\n",
       "                    <tr>\n",
       "                        <th> Count </th>\n",
       "                        <td> 50 Tasks </td>\n",
       "                        <td> 50 Chunks </td>\n",
       "                    </tr>\n",
       "                    <tr>\n",
       "                    <th> Type </th>\n",
       "                    <td> int64 </td>\n",
       "                    <td> numpy.ndarray </td>\n",
       "                    </tr>\n",
       "                </tbody>\n",
       "            </table>\n",
       "        </td>\n",
       "        <td>\n",
       "        <svg width=\"170\" height=\"84\" style=\"stroke:rgb(0,0,0);stroke-width:1\" >\n",
       "\n",
       "  <!-- Horizontal lines -->\n",
       "  <line x1=\"0\" y1=\"0\" x2=\"120\" y2=\"0\" style=\"stroke-width:2\" />\n",
       "  <line x1=\"0\" y1=\"1\" x2=\"120\" y2=\"1\" />\n",
       "  <line x1=\"0\" y1=\"3\" x2=\"120\" y2=\"3\" />\n",
       "  <line x1=\"0\" y1=\"4\" x2=\"120\" y2=\"4\" />\n",
       "  <line x1=\"0\" y1=\"6\" x2=\"120\" y2=\"6\" />\n",
       "  <line x1=\"0\" y1=\"8\" x2=\"120\" y2=\"8\" />\n",
       "  <line x1=\"0\" y1=\"10\" x2=\"120\" y2=\"10\" />\n",
       "  <line x1=\"0\" y1=\"12\" x2=\"120\" y2=\"12\" />\n",
       "  <line x1=\"0\" y1=\"14\" x2=\"120\" y2=\"14\" />\n",
       "  <line x1=\"0\" y1=\"15\" x2=\"120\" y2=\"15\" />\n",
       "  <line x1=\"0\" y1=\"17\" x2=\"120\" y2=\"17\" />\n",
       "  <line x1=\"0\" y1=\"19\" x2=\"120\" y2=\"19\" />\n",
       "  <line x1=\"0\" y1=\"21\" x2=\"120\" y2=\"21\" />\n",
       "  <line x1=\"0\" y1=\"23\" x2=\"120\" y2=\"23\" />\n",
       "  <line x1=\"0\" y1=\"24\" x2=\"120\" y2=\"24\" />\n",
       "  <line x1=\"0\" y1=\"26\" x2=\"120\" y2=\"26\" />\n",
       "  <line x1=\"0\" y1=\"28\" x2=\"120\" y2=\"28\" />\n",
       "  <line x1=\"0\" y1=\"30\" x2=\"120\" y2=\"30\" />\n",
       "  <line x1=\"0\" y1=\"32\" x2=\"120\" y2=\"32\" />\n",
       "  <line x1=\"0\" y1=\"34\" x2=\"120\" y2=\"34\" style=\"stroke-width:2\" />\n",
       "\n",
       "  <!-- Vertical lines -->\n",
       "  <line x1=\"0\" y1=\"0\" x2=\"0\" y2=\"34\" style=\"stroke-width:2\" />\n",
       "  <line x1=\"120\" y1=\"0\" x2=\"120\" y2=\"34\" style=\"stroke-width:2\" />\n",
       "\n",
       "  <!-- Colored Rectangle -->\n",
       "  <polygon points=\"0.0,0.0 120.0,0.0 120.0,34.50101617379934 0.0,34.50101617379934\" style=\"fill:#8B4903A0;stroke-width:0\"/>\n",
       "\n",
       "  <!-- Text -->\n",
       "  <text x=\"60.000000\" y=\"54.501016\" font-size=\"1.0rem\" font-weight=\"100\" text-anchor=\"middle\" >20000</text>\n",
       "  <text x=\"140.000000\" y=\"17.250508\" font-size=\"1.0rem\" font-weight=\"100\" text-anchor=\"middle\" transform=\"rotate(-90,140.000000,17.250508)\">1000</text>\n",
       "</svg>\n",
       "        </td>\n",
       "    </tr>\n",
       "</table>"
      ],
      "text/plain": [
       "dask.array<array, shape=(1000, 20000), dtype=int64, chunksize=(20, 20000), chunktype=numpy.ndarray>"
      ]
     },
     "execution_count": 9,
     "metadata": {},
     "output_type": "execute_result"
    }
   ],
   "source": [
    "X_dist"
   ]
  },
  {
   "cell_type": "code",
   "execution_count": 10,
   "id": "22e51bc5",
   "metadata": {},
   "outputs": [
    {
     "name": "stdout",
     "output_type": "stream",
     "text": [
      "CPU times: user 23.1 s, sys: 8.32 s, total: 31.4 s\n",
      "Wall time: 4min 7s\n"
     ]
    },
    {
     "data": {
      "image/png": "[encoded data removed]",
      "text/plain": [
       "<Figure size 864x360 with 1 Axes>"
      ]
     },
     "metadata": {
      "needs_background": "light"
     },
     "output_type": "display_data"
    }
   ],
   "source": [
    "%%time\n",
    "mem_use, (path_par, beta_par, lams_par) = memory_usage(\n",
    "    (cd_hsic_lasso, (X_dist,), {\"client\": client, **cd_hsic_kwargs}),\n",
    "    include_children=True,\n",
    "    retval=True,\n",
    ")\n",
    "\n",
    "_, ax = plt.subplots(figsize=(12, 5))\n",
    "ax.plot(mem_use, \"-o\")\n",
    "ax.grid(True)\n",
    "_ = ax.set_ylabel(\"memory usage (MiB)\")"
   ]
  },
  {
   "cell_type": "code",
   "execution_count": 11,
   "id": "49d16643",
   "metadata": {},
   "outputs": [],
   "source": [
    "cluster.close()\n",
    "client.close()"
   ]
  },
  {
   "cell_type": "markdown",
   "id": "30b91034-b37c-4130-bdc4-d7e8f6e9d46f",
   "metadata": {},
   "source": [
    "We check that the results for serial and parallel code are exactly the same."
   ]
  },
  {
   "cell_type": "code",
   "execution_count": 12,
   "id": "7fcda7c1-fe1a-463a-9b89-2d8fe608ae76",
   "metadata": {},
   "outputs": [
    {
     "data": {
      "text/plain": [
       "True"
      ]
     },
     "execution_count": 12,
     "metadata": {},
     "output_type": "execute_result"
    }
   ],
   "source": [
    "np.all(path_serial.toarray() == path_par.toarray())"
   ]
  },
  {
   "cell_type": "markdown",
   "id": "2105a02a",
   "metadata": {},
   "source": [
    "## Slurm-based parallelism"
   ]
  },
  {
   "cell_type": "code",
   "execution_count": 13,
   "id": "6350fdff",
   "metadata": {},
   "outputs": [],
   "source": [
    "cluster = SLURMCluster(\n",
    "    cores=2,\n",
    "    processes=2,\n",
    "    memory=\"2GiB\",\n",
    "    walltime=\"0-00:10\",\n",
    "    log_directory=\"../dask/logs\",\n",
    "    local_directory=\"../dask\",\n",
    ")\n",
    "client = Client(cluster)"
   ]
  },
  {
   "cell_type": "code",
   "execution_count": 14,
   "id": "11ceb558",
   "metadata": {},
   "outputs": [],
   "source": [
    "cluster.scale(n=4)\n",
    "client.wait_for_workers(1)"
   ]
  },
  {
   "cell_type": "code",
   "execution_count": 15,
   "id": "d206e560-1b6d-4eb6-a546-d81a90132d45",
   "metadata": {},
   "outputs": [],
   "source": [
    "X_dist = da.from_array(X, chunks={0: 20})\n",
    "X_dist = client.persist(X_dist)"
   ]
  },
  {
   "cell_type": "code",
   "execution_count": 16,
   "id": "72569f0e",
   "metadata": {},
   "outputs": [
    {
     "name": "stdout",
     "output_type": "stream",
     "text": [
      "CPU times: user 25.2 s, sys: 2 s, total: 27.2 s\n",
      "Wall time: 4min 38s\n"
     ]
    },
    {
     "data": {
      "image/png": "[encoded data removed]",
      "text/plain": [
       "<Figure size 864x360 with 1 Axes>"
      ]
     },
     "metadata": {
      "needs_background": "light"
     },
     "output_type": "display_data"
    }
   ],
   "source": [
    "%%time\n",
    "mem_use = memory_usage((cd_hsic_lasso, (X_dist,), {\"client\": client, **cd_hsic_kwargs}))\n",
    "\n",
    "_, ax = plt.subplots(figsize=(12, 5))\n",
    "ax.plot(mem_use, \"-o\")\n",
    "ax.grid(True)\n",
    "_ = ax.set_ylabel(\"memory usage (MiB)\")"
   ]
  },
  {
   "cell_type": "code",
   "execution_count": 17,
   "id": "7155adcd",
   "metadata": {},
   "outputs": [],
   "source": [
    "cluster.close()\n",
    "client.close()"
   ]
  },
  {
   "cell_type": "markdown",
   "id": "ad029148",
   "metadata": {},
   "source": [
    "## Large-scale parallelism\n",
    "\n",
    "We can use much larger amount of workers and smaller chunksize to reduce runtime."
   ]
  },
  {
   "cell_type": "code",
   "execution_count": 18,
   "id": "b7bdcc47",
   "metadata": {},
   "outputs": [],
   "source": [
    "cluster = SLURMCluster(\n",
    "    cores=2,\n",
    "    processes=2,\n",
    "    memory=\"2GiB\",\n",
    "    walltime=\"0-00:10\",\n",
    "    log_directory=\"../dask/logs\",\n",
    "    local_directory=\"../dask\",\n",
    ")\n",
    "client = Client(cluster)"
   ]
  },
  {
   "cell_type": "code",
   "execution_count": 19,
   "id": "cadfbadf",
   "metadata": {},
   "outputs": [],
   "source": [
    "cluster.scale(n=50)\n",
    "client.wait_for_workers(1)"
   ]
  },
  {
   "cell_type": "code",
   "execution_count": 20,
   "id": "92d02ec4-eb02-4b77-aa2b-3c9d3a5e0bb3",
   "metadata": {},
   "outputs": [],
   "source": [
    "X_dist = da.from_array(X, chunks={0: 20})\n",
    "X_dist = client.persist(X_dist)"
   ]
  },
  {
   "cell_type": "code",
   "execution_count": 21,
   "id": "4436f9ab",
   "metadata": {},
   "outputs": [
    {
     "name": "stdout",
     "output_type": "stream",
     "text": [
      "CPU times: user 21 s, sys: 1.45 s, total: 22.4 s\n",
      "Wall time: 1min 9s\n"
     ]
    },
    {
     "data": {
      "image/png": "[encoded data removed]",
      "text/plain": [
       "<Figure size 864x360 with 1 Axes>"
      ]
     },
     "metadata": {
      "needs_background": "light"
     },
     "output_type": "display_data"
    }
   ],
   "source": [
    "%%time\n",
    "mem_use = memory_usage((cd_hsic_lasso, (X_dist,), {\"client\": client, **cd_hsic_kwargs}))\n",
    "\n",
    "_, ax = plt.subplots(figsize=(12, 5))\n",
    "ax.plot(mem_use, \"-o\")\n",
    "ax.grid(True)\n",
    "_ = ax.set_ylabel(\"memory usage (MiB)\")"
   ]
  },
  {
   "cell_type": "markdown",
   "id": "59971a71",
   "metadata": {},
   "source": [
    "We can also profile this to check if now time is spent elsewhere than in features\n",
    "screening."
   ]
  },
  {
   "cell_type": "code",
   "execution_count": 22,
   "id": "dd02c866",
   "metadata": {},
   "outputs": [],
   "source": [
    "%load_ext line_profiler"
   ]
  },
  {
   "cell_type": "code",
   "execution_count": 23,
   "id": "e97d7a1d",
   "metadata": {},
   "outputs": [
    {
     "data": {
      "text/plain": [
       "Timer unit: 1e-06 s\n",
       "\n",
       "Total time: 52.8005 s\n",
       "File: /scale_wlg_persistent/filesets/project/nesi99999/riom/hsic_optimization/src/hsic_optimization/optimization.py\n",
       "Function: cd_nn_lasso_path at line 102\n",
       "\n",
       "Line #      Hits         Time  Per Hit   % Time  Line Contents\n",
       "==============================================================\n",
       "   102                                           def cd_nn_lasso_path(\n",
       "   103                                               features: T.Union[np.ndarray, Operator],\n",
       "   104                                               y: np.ndarray,\n",
       "   105                                               max_features: int,\n",
       "   106                                               eps: float = 0.95,\n",
       "   107                                               max_outer_iter: int = 100,\n",
       "   108                                               max_inner_iter: int = 2000,\n",
       "   109                                               abstol: float = 1e-6,\n",
       "   110                                           ) -> T.Tuple[sp.lil_matrix, np.ndarray, np.ndarray]:\n",
       "   111                                           \n",
       "   112         1         10.0     10.0      0.0      assert max_features <= len(features)\n",
       "   113         1         17.0     17.0      0.0      logger = logging.getLogger(__name__)\n",
       "   114                                           \n",
       "   115         1          1.0      1.0      0.0      if isinstance(features, np.ndarray):\n",
       "   116                                                   features = ArrayOp(features)\n",
       "   117                                           \n",
       "   118         1    1820922.0 1820922.0      3.4      Xy = features.matvec(y)\n",
       "   119         1         26.0     26.0      0.0      Xy_max = Xy.max()\n",
       "   120                                           \n",
       "   121         1        210.0    210.0      0.0      path = sp.lil_matrix((max_outer_iter, len(features)), dtype=y.dtype)\n",
       "   122         1        325.0    325.0      0.0      lams = np.geomspace(Xy_max, Xy_max * eps ** (max_outer_iter - 1), max_outer_iter)\n",
       "   123                                           \n",
       "   124         1          2.0      2.0      0.0      inner_products = Xy\n",
       "   125         1         12.0     12.0      0.0      beta = np.zeros(len(features), dtype=y.dtype)\n",
       "   126                                           \n",
       "   127        23         23.0      1.0      0.0      for idx_outer in range(1, max_outer_iter):\n",
       "   128        23         82.0      3.6      0.0          logger.info(f\"outer iteration started - {idx_outer + 1} / {max_outer_iter}\")\n",
       "   129                                           \n",
       "   130                                                   # screening using sequential strong rule\n",
       "   131        23         97.0      4.2      0.0          gap = 2 * lams[idx_outer] - lams[idx_outer - 1]\n",
       "   132        23        356.0     15.5      0.0          active_mask = inner_products > gap\n",
       "   133        23       1983.0     86.2      0.0          active_set = np.where(active_mask)[0]\n",
       "   134                                           \n",
       "   135                                                   while True:\n",
       "   136        23    8667982.0 376868.8     16.4              XiXj = features.products(active_set)\n",
       "   137        46      19628.0    426.7      0.0              beta[active_set], n_iter = cd_nn_lasso_(\n",
       "   138        23         57.0      2.5      0.0                  Xy[active_set],\n",
       "   139        23         11.0      0.5      0.0                  XiXj,\n",
       "   140        23         26.0      1.1      0.0                  beta[active_set],\n",
       "   141        23         28.0      1.2      0.0                  lams[idx_outer],\n",
       "   142        23         16.0      0.7      0.0                  max_inner_iter,\n",
       "   143        23         14.0      0.6      0.0                  abstol,\n",
       "   144                                                       )\n",
       "   145        23        163.0      7.1      0.0              logger.info(f\"inner iteration finished - {n_iter} / {max_inner_iter} steps\")\n",
       "   146                                           \n",
       "   147        23     681799.0  29643.4      1.3              residuals = y - features.rmatvec(beta[active_set], active_set)\n",
       "   148        23   41586078.0 1808090.3     78.8              inner_products = features.matvec(residuals)\n",
       "   149                                           \n",
       "   150        23        242.0     10.5      0.0              old_active_mask = active_mask.copy()\n",
       "   151        23        769.0     33.4      0.0              active_mask |= inner_products > lams[idx_outer]\n",
       "   152        23       6677.0    290.3      0.0              active_set = np.where(active_mask)[0]\n",
       "   153                                           \n",
       "   154        23       1646.0     71.6      0.0              if np.all(active_mask == old_active_mask):\n",
       "   155        23         29.0      1.3      0.0                  break\n",
       "   156                                           \n",
       "   157        23       6634.0    288.4      0.0          path[idx_outer, active_set] = beta[active_set]\n",
       "   158        23       3985.0    173.3      0.0          n_active = path[idx_outer].count_nonzero()\n",
       "   159        23        187.0      8.1      0.0          logger.info(f\"outer iteration finished - {n_active} active features\")\n",
       "   160        23         20.0      0.9      0.0          if n_active > max_features:\n",
       "   161         1          1.0      1.0      0.0              break\n",
       "   162                                           \n",
       "   163                                               # remove the last iteration to keep only max_features active, if needed\n",
       "   164         1        117.0    117.0      0.0      if path[idx_outer].count_nonzero() > max_features:\n",
       "   165         1        188.0    188.0      0.0          path = path[:idx_outer]\n",
       "   166         1          3.0      3.0      0.0          lams = lams[:idx_outer]\n",
       "   167                                               else:\n",
       "   168                                                   assert idx_outer == max_outer_iter - 1\n",
       "   169                                           \n",
       "   170         1        140.0    140.0      0.0      beta = path[-1].toarray().squeeze()\n",
       "   171         1          1.0      1.0      0.0      return path, beta, lams"
      ]
     },
     "metadata": {},
     "output_type": "display_data"
    }
   ],
   "source": [
    "%lprun -f cd_nn_lasso_path cd_hsic_lasso(X_dist, client=client, **cd_hsic_kwargs)"
   ]
  },
  {
   "cell_type": "code",
   "execution_count": 24,
   "id": "267d3d56",
   "metadata": {},
   "outputs": [],
   "source": [
    "cluster.close()\n",
    "client.close()"
   ]
  }
 ],
 "metadata": {
  "kernelspec": {
   "display_name": "hsic_optimization",
   "language": "python",
   "name": "hsic_optimization"
  },
  "language_info": {
   "codemirror_mode": {
    "name": "ipython",
    "version": 3
   },
   "file_extension": ".py",
   "mimetype": "text/x-python",
   "name": "python",
   "nbconvert_exporter": "python",
   "pygments_lexer": "ipython3",
   "version": "3.8.11"
  }
 },
 "nbformat": 4,
 "nbformat_minor": 5
}
