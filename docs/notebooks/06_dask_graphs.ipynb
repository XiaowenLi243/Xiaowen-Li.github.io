{
 "cells": [
  {
   "cell_type": "markdown",
   "metadata": {},
   "source": [
    "# Dask graph experiments\n",
    "\n",
    "This notebook explores in more details how the main Dask graph used to project\n",
    "HSIC features on residuals performs on larger datasets."
   ]
  },
  {
   "cell_type": "code",
   "execution_count": null,
   "metadata": {},
   "outputs": [],
   "source": [
    "from pathlib import Path\n",
    "\n",
    "import numpy as np\n",
    "import h5py\n",
    "import dask\n",
    "import dask.bag as db\n",
    "import dask.array as da\n",
    "from dask import delayed\n",
    "from dask.distributed import Client\n",
    "from dask_jobqueue import SLURMCluster\n",
    "\n",
    "from hsic_optimization.hsic_tools import generate\n",
    "from hsic_optimization.hsic_lasso import feature_accel, compute_kernel"
   ]
  },
  {
   "cell_type": "markdown",
   "metadata": {},
   "source": [
    "## Dataset and parameter generation\n",
    "\n",
    "First, let's generate a large dataset to make a fair comparison between the different approaches."
   ]
  },
  {
   "cell_type": "code",
   "execution_count": null,
   "metadata": {},
   "outputs": [],
   "source": [
    "n_samples = 1_000_000\n",
    "n_features = 10_000\n",
    "n_active = 10\n",
    "dset_file = Path(f\"../data/test_dataset_{n_features}_by_{n_samples}.h5\")"
   ]
  },
  {
   "cell_type": "code",
   "execution_count": null,
   "metadata": {},
   "outputs": [],
   "source": [
    "if not dset_file.exists():\n",
    "    generate(dset_file, samples=n_samples, feats=n_features, active=n_active, seed=1234)"
   ]
  },
  {
   "cell_type": "markdown",
   "metadata": {},
   "source": [
    "The target data for HSIC lasso can also be precomputed in advance."
   ]
  },
  {
   "cell_type": "code",
   "execution_count": null,
   "metadata": {},
   "outputs": [],
   "source": [
    "with h5py.File(dset_file, \"r\") as fd:\n",
    "    Y = np.array(fd[\"Y\"])\n",
    "\n",
    "B = 20\n",
    "M = 3\n",
    "scale = np.sqrt(B / (Y.size * M))\n",
    "\n",
    "L = compute_kernel(Y[None, :], \"Delta\", B, M, discarded=0) * scale"
   ]
  },
  {
   "cell_type": "markdown",
   "metadata": {},
   "source": [
    "## Slurm-based Dask cluster\n",
    "\n",
    "For the next experiments, I define a function to start a cluster based on Slurm\n",
    "jobs."
   ]
  },
  {
   "cell_type": "code",
   "execution_count": null,
   "metadata": {},
   "outputs": [],
   "source": [
    "def start_cluster(n_workers):\n",
    "    cluster = SLURMCluster(\n",
    "        cores=4,\n",
    "        processes=4,\n",
    "        memory=\"8GiB\",\n",
    "        walltime=\"0-00:20\",\n",
    "        log_directory=\"../dask/logs\",\n",
    "        local_directory=\"../dask\",\n",
    "        interface=\"ib0\",\n",
    "    )\n",
    "    client = Client(cluster)\n",
    "\n",
    "    cluster.scale(n=n_workers)\n",
    "    client.wait_for_workers(n_workers)\n",
    "\n",
    "    return cluster, client"
   ]
  },
  {
   "cell_type": "markdown",
   "metadata": {},
   "source": [
    "And as usual, let's make sure that no data is saved on drive by workers when\n",
    "they run out of memory."
   ]
  },
  {
   "cell_type": "code",
   "execution_count": null,
   "metadata": {},
   "outputs": [],
   "source": [
    "_ = dask.config.set(\n",
    "    {\n",
    "        \"distributed.worker.memory.target\": False,  # avoid spilling to disk\n",
    "        \"distributed.worker.memory.spill\": False,  # avoid spilling to disk\n",
    "    }\n",
    ")"
   ]
  },
  {
   "cell_type": "markdown",
   "metadata": {},
   "source": [
    "## Algorithm using dask.bag\n",
    "\n",
    "In this first experiment, I'll use `dask.bag` to run the projection step."
   ]
  },
  {
   "cell_type": "code",
   "execution_count": null,
   "metadata": {},
   "outputs": [],
   "source": [
    "cluster, client = start_cluster(20)"
   ]
  },
  {
   "cell_type": "markdown",
   "metadata": {},
   "source": [
    "First, the HSIC features are created as a distributed collection, on a subset\n",
    "for illustration purposes before running on all features."
   ]
  },
  {
   "cell_type": "code",
   "execution_count": null,
   "metadata": {},
   "outputs": [],
   "source": [
    "def feature(i):\n",
    "    with h5py.File(dset_file, \"r\") as fp:\n",
    "        return fp[\"X\"][i]\n",
    "\n",
    "\n",
    "def load_features(n_features, chunksize):\n",
    "    indices = db.from_sequence(range(n_features), partition_size=chunksize)\n",
    "    all_features = indices.map(feature)\n",
    "    return all_features\n",
    "\n",
    "\n",
    "all_features = load_features(40, 10)"
   ]
  },
  {
   "cell_type": "markdown",
   "metadata": {},
   "source": [
    "Next, the projections of each feature on the target variables is computed using\n",
    "the `map` function of the distributed collection. The target data is sent to all\n",
    "workers using `client.scatter(..., broadcast=True)` before the projection step."
   ]
  },
  {
   "cell_type": "code",
   "execution_count": null,
   "metadata": {},
   "outputs": [],
   "source": [
    "def project_features(all_features, y, client):\n",
    "    def project(x, y):\n",
    "        return feature_accel(x, B, M, 0, scale) @ y\n",
    "\n",
    "    y = client.scatter(y, broadcast=True)\n",
    "    inner_products = all_features.map(project, y)\n",
    "    return inner_products\n",
    "\n",
    "\n",
    "inner_products = project_features(all_features, L, client)"
   ]
  },
  {
   "cell_type": "markdown",
   "metadata": {},
   "source": [
    "The corresponding Dask graph is very straighforward, one task per chunk in the\n",
    "distributed collection."
   ]
  },
  {
   "cell_type": "code",
   "execution_count": null,
   "metadata": {},
   "outputs": [],
   "source": [
    "inner_products.visualize()"
   ]
  },
  {
   "cell_type": "markdown",
   "metadata": {},
   "source": [
    "The result of the `inner_products` being a list, it needs to be converted into a\n",
    "numpy array to be useful in the rest of the code."
   ]
  },
  {
   "cell_type": "code",
   "execution_count": null,
   "metadata": {},
   "outputs": [],
   "source": [
    "%%time\n",
    "np.array(inner_products.compute())"
   ]
  },
  {
   "cell_type": "code",
   "execution_count": null,
   "metadata": {},
   "outputs": [],
   "source": [
    "client.close()\n",
    "cluster.close()"
   ]
  },
  {
   "cell_type": "markdown",
   "metadata": {},
   "source": [
    "Now that we know that it works, we can scale it using more features and see how\n",
    "well the Dask graph behaves (e.g. compute vs. transfers). To make computations\n",
    "a bit faster, let's also restart the cluster wit more workers."
   ]
  },
  {
   "cell_type": "code",
   "execution_count": null,
   "metadata": {},
   "outputs": [],
   "source": [
    "cluster, client = start_cluster(200)"
   ]
  },
  {
   "cell_type": "code",
   "execution_count": null,
   "metadata": {},
   "outputs": [],
   "source": [
    "all_features = load_features(n_features, 10)\n",
    "inner_products = project_features(all_features, L, client)"
   ]
  },
  {
   "cell_type": "code",
   "execution_count": null,
   "metadata": {},
   "outputs": [],
   "source": [
    "%%time\n",
    "_ = np.array(inner_products.compute())"
   ]
  },
  {
   "attachments": {
    "a600620e-f7c1-450a-ab54-7875eebd359e.png": {
     "image/png": "[encoded data removed]"
    }
   },
   "cell_type": "markdown",
   "metadata": {},
   "source": [
    "*Note: compute vs. transfers (captured on a previous run)*\n",
    "\n",
    "![image.png](attachment:a600620e-f7c1-450a-ab54-7875eebd359e.png)"
   ]
  },
  {
   "cell_type": "markdown",
   "metadata": {},
   "source": [
    "Changing the chunksize modifies how many tasks are in the graph:\n",
    "\n",
    "- more tasks means possibly means more bookkeeping for the scheduler,\n",
    "- but more tasks also means more opportunities to use pending workers to do\n",
    "  computations.\n",
    "\n",
    "So there is probably a good tradeoff to be found here..."
   ]
  },
  {
   "cell_type": "code",
   "execution_count": null,
   "metadata": {},
   "outputs": [],
   "source": [
    "all_features = load_features(n_features, 5)\n",
    "inner_products = project_features(all_features, L, client)"
   ]
  },
  {
   "cell_type": "code",
   "execution_count": null,
   "metadata": {},
   "outputs": [],
   "source": [
    "%%time\n",
    "_ = np.array(inner_products.compute())"
   ]
  },
  {
   "cell_type": "code",
   "execution_count": null,
   "metadata": {},
   "outputs": [],
   "source": [
    "client.close()\n",
    "cluster.close()"
   ]
  },
  {
   "cell_type": "markdown",
   "metadata": {},
   "source": [
    "The `dask.bag` interface is simple and seems to perform well in the current case,\n",
    "when data is loaded from disk.\n",
    "\n",
    "If the `feature` function was loading from an array in memory, this array would\n",
    "serialized to each worker and put a lot more pressure on their memory\n",
    "consumption. This could be considered as an issue if we want to make the\n",
    "`cd_hsic_lasso` function generic enough to handle both cases (data in memory or\n",
    "loaded from disk)."
   ]
  },
  {
   "cell_type": "markdown",
   "metadata": {},
   "source": [
    "## Algorithm based on dask.array - version 1\n",
    "\n",
    "The `dask.array` interface makes it possible to create a numpy-like array, made\n",
    "of disjoint chunks."
   ]
  },
  {
   "cell_type": "code",
   "execution_count": null,
   "metadata": {},
   "outputs": [],
   "source": [
    "cluster, client = start_cluster(20)"
   ]
  },
  {
   "cell_type": "markdown",
   "metadata": {},
   "source": [
    "One way to use `dask.array` to create a distributed array from the data is to\n",
    "create a list of delayed functions, to load each features, and then convert\n",
    "these as dask arrays. These arrays are concatenated to obtain the final\n",
    "distributed array."
   ]
  },
  {
   "cell_type": "code",
   "execution_count": null,
   "metadata": {},
   "outputs": [],
   "source": [
    "def load_features(n_features):\n",
    "    @delayed\n",
    "    def load_chunk(i):\n",
    "        with h5py.File(dset_file, \"r\") as fp:\n",
    "            return fp[\"X\"][i]\n",
    "\n",
    "    X = da.stack(\n",
    "        [\n",
    "            da.from_delayed(load_chunk(i), (n_samples,), dtype=np.uint8)\n",
    "            for i in range(n_features)\n",
    "        ],\n",
    "        axis=0,\n",
    "    )\n",
    "    return X\n",
    "\n",
    "\n",
    "X = load_features(40)"
   ]
  },
  {
   "cell_type": "code",
   "execution_count": null,
   "metadata": {},
   "outputs": [],
   "source": [
    "X"
   ]
  },
  {
   "cell_type": "markdown",
   "metadata": {},
   "source": [
    "To compute the projection of each feature on the target data, we can use the\n",
    "`map_blocks` method of the distributed array, to compute the HSIC feature and\n",
    "the dot product in one pass over the data."
   ]
  },
  {
   "cell_type": "code",
   "execution_count": null,
   "metadata": {},
   "outputs": [],
   "source": [
    "def project_block(chunk, y):\n",
    "    return np.array([feature_accel(x, B, M, 0, scale) @ y for x in chunk])\n",
    "\n",
    "\n",
    "def project_features(X, y, client):\n",
    "    y = client.scatter(y, broadcast=True)\n",
    "    inner_products = X.map_blocks(project_block, dtype=np.float32, drop_axis=1, y=y)\n",
    "    return inner_products\n",
    "\n",
    "\n",
    "inner_products = project_features(X, L, client)"
   ]
  },
  {
   "cell_type": "markdown",
   "metadata": {},
   "source": [
    "The resulting Dask graph contains more operations than the `dask.bag` version,\n",
    "as operations are not grouped using some chunking mechanisms."
   ]
  },
  {
   "cell_type": "code",
   "execution_count": null,
   "metadata": {},
   "outputs": [],
   "source": [
    "inner_products.visualize()"
   ]
  },
  {
   "cell_type": "code",
   "execution_count": null,
   "metadata": {},
   "outputs": [],
   "source": [
    "%%time\n",
    "inner_products.compute()"
   ]
  },
  {
   "cell_type": "code",
   "execution_count": null,
   "metadata": {},
   "outputs": [],
   "source": [
    "client.close()\n",
    "cluster.close()"
   ]
  },
  {
   "cell_type": "markdown",
   "metadata": {},
   "source": [
    "To benchmark this graph, let's use all the features and a larger Dask cluster."
   ]
  },
  {
   "cell_type": "code",
   "execution_count": null,
   "metadata": {},
   "outputs": [],
   "source": [
    "cluster, client = start_cluster(200)"
   ]
  },
  {
   "cell_type": "code",
   "execution_count": null,
   "metadata": {},
   "outputs": [],
   "source": [
    "X = load_features(n_features)\n",
    "inner_products = project_features(X, L, client)"
   ]
  },
  {
   "cell_type": "code",
   "execution_count": null,
   "metadata": {},
   "outputs": [],
   "source": [
    "%%time\n",
    "_ = np.array(inner_products.compute())"
   ]
  },
  {
   "attachments": {
    "fed76662-5740-4c36-a4fd-a9854f91d2b7.png": {
     "image/png": "[encoded data removed]"
    }
   },
   "cell_type": "markdown",
   "metadata": {},
   "source": [
    "*Note: compute vs. transfers (captured on a previous run)*\n",
    "\n",
    "![image.png](attachment:fed76662-5740-4c36-a4fd-a9854f91d2b7.png)"
   ]
  },
  {
   "cell_type": "code",
   "execution_count": null,
   "metadata": {},
   "outputs": [],
   "source": [
    "client.close()\n",
    "cluster.close()"
   ]
  },
  {
   "cell_type": "markdown",
   "metadata": {},
   "source": [
    "## Algorithm based on dask.array - version 2\n",
    "\n",
    "In this second version, let's try to load the data from disk, by chunks to keep\n",
    "a compact Dask graph."
   ]
  },
  {
   "cell_type": "code",
   "execution_count": null,
   "metadata": {},
   "outputs": [],
   "source": [
    "cluster, client = start_cluster(20)"
   ]
  },
  {
   "cell_type": "code",
   "execution_count": null,
   "metadata": {},
   "outputs": [],
   "source": [
    "fd = h5py.File(dset_file)\n",
    "X = da.from_array(fd[\"X\"][:40], chunks=(10, n_samples))"
   ]
  },
  {
   "cell_type": "code",
   "execution_count": null,
   "metadata": {},
   "outputs": [],
   "source": [
    "X"
   ]
  },
  {
   "cell_type": "code",
   "execution_count": null,
   "metadata": {},
   "outputs": [],
   "source": [
    "inner_products = project_features(X, L, client)"
   ]
  },
  {
   "cell_type": "markdown",
   "metadata": {},
   "source": [
    "The corresponding graph is simpler, as there is only one task per block."
   ]
  },
  {
   "cell_type": "code",
   "execution_count": null,
   "metadata": {},
   "outputs": [],
   "source": [
    "inner_products.visualize()"
   ]
  },
  {
   "cell_type": "code",
   "execution_count": null,
   "metadata": {},
   "outputs": [],
   "source": [
    "%%time\n",
    "inner_products.compute()"
   ]
  },
  {
   "cell_type": "code",
   "execution_count": null,
   "metadata": {},
   "outputs": [],
   "source": [
    "client.close()\n",
    "cluster.close()"
   ]
  },
  {
   "cell_type": "markdown",
   "metadata": {},
   "source": [
    "Once again, let's use all features and more workers to benchmark this code."
   ]
  },
  {
   "cell_type": "code",
   "execution_count": null,
   "metadata": {},
   "outputs": [],
   "source": [
    "cluster, client = start_cluster(200)"
   ]
  },
  {
   "cell_type": "code",
   "execution_count": null,
   "metadata": {},
   "outputs": [],
   "source": [
    "X = da.from_array(fd[\"X\"], chunks=(10, n_samples))\n",
    "inner_products = project_features(X, L, client)"
   ]
  },
  {
   "cell_type": "code",
   "execution_count": null,
   "metadata": {},
   "outputs": [],
   "source": [
    "%%time\n",
    "_ = np.array(inner_products.compute())"
   ]
  },
  {
   "attachments": {
    "1583f11a-79da-47b7-8f72-f5ca6db459e4.png": {
     "image/png": "[encoded data removed]"
    }
   },
   "cell_type": "markdown",
   "metadata": {},
   "source": [
    "*Note: compute vs. transfers (captured on a previous run)*\n",
    "\n",
    "![image.png](attachment:1583f11a-79da-47b7-8f72-f5ca6db459e4.png)"
   ]
  },
  {
   "cell_type": "markdown",
   "metadata": {},
   "source": [
    "We can try to change the chunksize to see how this affects the performances."
   ]
  },
  {
   "cell_type": "code",
   "execution_count": null,
   "metadata": {},
   "outputs": [],
   "source": [
    "X = da.from_array(fd[\"X\"], chunks=(5, n_samples))\n",
    "inner_products = project_features(X, L)"
   ]
  },
  {
   "cell_type": "code",
   "execution_count": null,
   "metadata": {},
   "outputs": [],
   "source": [
    "%%time\n",
    "_ = np.array(inner_products.compute())"
   ]
  },
  {
   "cell_type": "code",
   "execution_count": null,
   "metadata": {},
   "outputs": [],
   "source": [
    "client.close()\n",
    "cluster.close()"
   ]
  },
  {
   "cell_type": "code",
   "execution_count": null,
   "metadata": {},
   "outputs": [],
   "source": [
    "fd.close()"
   ]
  },
  {
   "cell_type": "markdown",
   "metadata": {},
   "source": [
    "## Additional notes\n",
    "\n",
    "For very large-scale and long running computations, it turns out that none of\n",
    "these solutions are suitable, due to the way Dask deals with dying workers.\n",
    "Indeed, the results of the Dask tasks are held on a worker until the full\n",
    "computation is done. For a long running computation, the Slurm jobs hosting the\n",
    "Dask workers might stop before the end of the computation, cancelling all\n",
    "results computed by these workers.\n",
    "\n",
    "To avoid this, the only method I have found so far is to use the [Futures API](https://docs.dask.org/en/stable/futures.html)\n",
    "which permits the retrieval of results as soon as they are ready, avoiding\n",
    "wasted computations. The code is very similar to the `dask.bag` code in spirit."
   ]
  }
 ],
 "metadata": {
  "kernelspec": {
   "display_name": "hsic_optimization",
   "language": "python",
   "name": "hsic_optimization"
  },
  "language_info": {
   "codemirror_mode": {
    "name": "ipython",
    "version": 3
   },
   "file_extension": ".py",
   "mimetype": "text/x-python",
   "name": "python",
   "nbconvert_exporter": "python",
   "pygments_lexer": "ipython3",
   "version": "3.8.11"
  }
 },
 "nbformat": 4,
 "nbformat_minor": 4
}
