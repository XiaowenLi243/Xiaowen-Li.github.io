{
 "cells": [
  {
   "cell_type": "markdown",
   "id": "ff741149-b8dc-4351-a8f2-3b20fa13f2a7",
   "metadata": {},
   "source": [
    "# Large datasets experiments\n",
    "\n",
    "In this notebook, we will test the distributed implementation of the coordinate\n",
    "solver for HSIC lasso on larger datasets."
   ]
  },
  {
   "cell_type": "code",
   "execution_count": 1,
   "id": "d44ebb12-a23a-4eff-b218-f6daeaa651a4",
   "metadata": {},
   "outputs": [
    {
     "name": "stderr",
     "output_type": "stream",
     "text": [
      "/home/riom/project/hsic_optimization/venv/lib/python3.8/site-packages/dask_jobqueue/core.py:20: FutureWarning: tmpfile is deprecated and will be removed in a future release. Please use dask.utils.tmpfile instead.\n",
      "  from distributed.utils import tmpfile\n"
     ]
    }
   ],
   "source": [
    "from pathlib import Path\n",
    "\n",
    "import numpy as np\n",
    "import h5py\n",
    "import dask\n",
    "from dask.distributed import Client\n",
    "from memory_profiler import memory_usage\n",
    "import matplotlib.pyplot as plt\n",
    "\n",
    "from hsic_optimization.cluster import PatchedSLURMCluster\n",
    "from hsic_optimization.hsic_tools import generate\n",
    "from hsic_optimization.hsic_lasso import cd_hsic_lasso, feature_accel  # NOQA\n",
    "from hsic_optimization.optimization import cd_nn_lasso_path  # NOQA"
   ]
  },
  {
   "cell_type": "markdown",
   "id": "8dd41b14-642c-4b67-b9fc-dac8e3d31621",
   "metadata": {},
   "source": [
    "## Dataset and parameter generation\n",
    "\n",
    "Here we generate a dataset big enough to become representative of the final\n",
    "application, with 1 million samples. The dataset is save on-disk in a compressed\n",
    "format to save space."
   ]
  },
  {
   "cell_type": "code",
   "execution_count": 2,
   "id": "20cdcd68-f2d5-4e97-b53e-a053948c6728",
   "metadata": {},
   "outputs": [],
   "source": [
    "n_samples = 1_000_000\n",
    "n_features = 200\n",
    "n_active = 10\n",
    "dset_file = Path(f\"../data/test_dataset_{n_features}_by_{n_samples}.h5\")"
   ]
  },
  {
   "cell_type": "code",
   "execution_count": 3,
   "id": "474e8be4-0fb6-42b3-a385-717ef3483e04",
   "metadata": {},
   "outputs": [],
   "source": [
    "if not dset_file.exists():\n",
    "    generate(dset_file, samples=n_samples, feats=n_features, active=n_active, seed=1234)"
   ]
  },
  {
   "cell_type": "markdown",
   "id": "2eef8d9d-374f-475d-b268-964a96a46f9b",
   "metadata": {},
   "source": [
    "## Slurm-based Dask cluster"
   ]
  },
  {
   "cell_type": "code",
   "execution_count": 4,
   "id": "111cc33b-9c40-420a-a636-f53d9ecf5ee6",
   "metadata": {},
   "outputs": [],
   "source": [
    "_ = dask.config.set(\n",
    "    {\n",
    "        \"distributed.worker.memory.target\": False,  # avoid spilling to disk\n",
    "        \"distributed.worker.memory.spill\": False,  # avoid spilling to disk\n",
    "        \"distributed.worker.memory.pause\": 0.80,  # pause execution at 80% memory use\n",
    "        \"distributed.worker.memory.terminate\": 0.95,  # restart the worker at 95% use\n",
    "    }\n",
    ")"
   ]
  },
  {
   "cell_type": "code",
   "execution_count": 5,
   "id": "04e10ff5-4302-4a9b-a16b-5a76db128328",
   "metadata": {},
   "outputs": [],
   "source": [
    "cluster = PatchedSLURMCluster(\n",
    "    cores=4,\n",
    "    processes=4,\n",
    "    memory=\"8GiB\",\n",
    "    walltime=\"0-00:20\",\n",
    "    log_directory=\"../dask/logs\",\n",
    "    local_directory=\"../dask\",\n",
    "    interface=\"ib0\",\n",
    ")\n",
    "client = Client(cluster)"
   ]
  },
  {
   "cell_type": "code",
   "execution_count": 6,
   "id": "d532c755-dc36-45dc-9785-187d5de146ae",
   "metadata": {},
   "outputs": [],
   "source": [
    "cluster.scale(n=20)\n",
    "client.wait_for_workers(20)"
   ]
  },
  {
   "cell_type": "markdown",
   "id": "75df0c49-f1e1-4bb3-ba07-b53b39cf11a5",
   "metadata": {},
   "source": [
    "## Loading function"
   ]
  },
  {
   "cell_type": "code",
   "execution_count": 7,
   "id": "3a73273b-a879-415e-9e7f-b1808f6593d4",
   "metadata": {},
   "outputs": [],
   "source": [
    "with h5py.File(dset_file, \"r\") as fd:\n",
    "    Y = np.array(fd[\"Y\"])"
   ]
  },
  {
   "cell_type": "code",
   "execution_count": 8,
   "id": "85764d9f-00f9-47cf-87e4-354dddac899c",
   "metadata": {},
   "outputs": [],
   "source": [
    "def raw_feature(i):\n",
    "    with h5py.File(dset_file, \"r\") as fd:\n",
    "        return fd[\"X\"][i]"
   ]
  },
  {
   "cell_type": "code",
   "execution_count": 9,
   "id": "0d1715f0-e1e5-4d6f-8f80-ebd8bf0da0cc",
   "metadata": {},
   "outputs": [
    {
     "name": "stdout",
     "output_type": "stream",
     "text": [
      "3.5 ms ± 64 µs per loop (mean ± std. dev. of 7 runs, 100 loops each)\n"
     ]
    }
   ],
   "source": [
    "%timeit raw_feature(10)"
   ]
  },
  {
   "cell_type": "markdown",
   "id": "a5ebbe3e-78cf-47bb-8e20-95bd75ed8516",
   "metadata": {},
   "source": [
    "## CD solver performances"
   ]
  },
  {
   "cell_type": "code",
   "execution_count": 10,
   "id": "6e49806d-7633-4045-aa52-d261e8be2e8b",
   "metadata": {},
   "outputs": [],
   "source": [
    "cd_hsic_kwargs = {\n",
    "    \"X\": raw_feature,\n",
    "    \"Y\": Y,\n",
    "    \"B\": 20,\n",
    "    \"M\": 3,\n",
    "    \"num_feat\": 10,\n",
    "    \"feature\": feature_accel,\n",
    "    \"n_features\": n_features,\n",
    "    \"client\": client,\n",
    "    \"chunksize\": 5,\n",
    "}"
   ]
  },
  {
   "cell_type": "code",
   "execution_count": 11,
   "id": "e62318af-263c-473b-ac72-e93ba94ae556",
   "metadata": {},
   "outputs": [
    {
     "name": "stdout",
     "output_type": "stream",
     "text": [
      "CPU times: user 49.9 s, sys: 30.9 s, total: 1min 20s\n",
      "Wall time: 4min 4s\n"
     ]
    },
    {
     "data": {
      "image/png": "[encoded data removed]",
      "text/plain": [
       "<Figure size 864x360 with 1 Axes>"
      ]
     },
     "metadata": {
      "needs_background": "light"
     },
     "output_type": "display_data"
    }
   ],
   "source": [
    "%%time\n",
    "mem_use = memory_usage((cd_hsic_lasso, (), {\"max_outer_iter\": 5, **cd_hsic_kwargs}))\n",
    "\n",
    "_, ax = plt.subplots(figsize=(12, 5))\n",
    "ax.plot(mem_use, \"-o\")\n",
    "ax.grid(True)\n",
    "_ = ax.set_ylabel(\"memory usage (MiB)\")"
   ]
  },
  {
   "cell_type": "code",
   "execution_count": 12,
   "id": "3bc19f24-456f-42c7-8337-9889f0c55280",
   "metadata": {},
   "outputs": [],
   "source": [
    "%load_ext line_profiler"
   ]
  },
  {
   "cell_type": "code",
   "execution_count": 13,
   "id": "f311c2a8-aee8-40ab-97f9-ea3ec638cfd8",
   "metadata": {},
   "outputs": [
    {
     "data": {
      "text/plain": [
       "Timer unit: 1e-06 s\n",
       "\n",
       "Total time: 375.808 s\n",
       "File: /scale_wlg_persistent/filesets/project/nesi99999/riom/hsic_optimization/src/hsic_optimization/optimization.py\n",
       "Function: cd_nn_lasso_path at line 147\n",
       "\n",
       "Line #      Hits         Time  Per Hit   % Time  Line Contents\n",
       "==============================================================\n",
       "   147                                           def cd_nn_lasso_path(\n",
       "   148                                               features: T.Union[np.ndarray, Operator],\n",
       "   149                                               y: np.ndarray,\n",
       "   150                                               max_features: int,\n",
       "   151                                               eps: float = 0.95,\n",
       "   152                                               max_outer_iter: int = 100,\n",
       "   153                                               max_inner_iter: int = 2000,\n",
       "   154                                               abstol: float = 1e-6,\n",
       "   155                                               checkpoint: T.Optional[Path] = None,\n",
       "   156                                           ) -> T.Tuple[sp.lil_matrix, np.ndarray, np.ndarray]:\n",
       "   157                                           \n",
       "   158         1         47.0     47.0      0.0      assert max_features <= len(features)\n",
       "   159         1         32.0     32.0      0.0      logger = logging.getLogger(__name__)\n",
       "   160                                           \n",
       "   161         1          2.0      2.0      0.0      if isinstance(features, np.ndarray):\n",
       "   162                                                   features = ArrayOp(features)\n",
       "   163                                           \n",
       "   164         1          1.0      1.0      0.0      if checkpoint is not None and checkpoint.is_file():\n",
       "   165                                                   logger.info(f\"loading saved intermediate results from {checkpoint}\")\n",
       "   166                                                   Xy, path, lams, inner_products, beta, idx_outer = load_state(checkpoint)\n",
       "   167                                           \n",
       "   168                                               else:\n",
       "   169         1         13.0     13.0      0.0          logger.info(f\"outer iteration started - 1/{max_outer_iter}\")\n",
       "   170         1   28474138.0 28474138.0      7.6          Xy = features.matvec(y)\n",
       "   171         1         47.0     47.0      0.0          Xy_max = Xy.max()\n",
       "   172         1         17.0     17.0      0.0          logger.info(f\"outer iteration finished - largest penality: {Xy_max}\")\n",
       "   173                                           \n",
       "   174         1        129.0    129.0      0.0          path = sp.lil_matrix((max_outer_iter, len(features)), dtype=y.dtype)\n",
       "   175         2        407.0    203.5      0.0          lams = np.geomspace(\n",
       "   176         1         30.0     30.0      0.0              Xy_max, Xy_max * eps ** (max_outer_iter - 1), max_outer_iter\n",
       "   177                                                   )\n",
       "   178                                           \n",
       "   179         1          2.0      2.0      0.0          inner_products = Xy\n",
       "   180         1          9.0      9.0      0.0          beta = np.zeros(len(features), dtype=y.dtype)\n",
       "   181                                           \n",
       "   182         1          1.0      1.0      0.0          idx_outer = 0\n",
       "   183                                           \n",
       "   184         1          0.0      0.0      0.0      if checkpoint is not None:\n",
       "   185                                                   save_state(checkpoint, Xy, path, lams, inner_products, beta, idx_outer)\n",
       "   186                                           \n",
       "   187        10         11.0      1.1      0.0      for idx_outer in range(idx_outer + 1, max_outer_iter):\n",
       "   188         9         30.0      3.3      0.0          logger.info(f\"outer iteration started - {idx_outer + 1}/{max_outer_iter}\")\n",
       "   189                                           \n",
       "   190                                                   # screening using sequential strong rule\n",
       "   191         9         44.0      4.9      0.0          gap = 2 * lams[idx_outer] - lams[idx_outer - 1]\n",
       "   192         9        119.0     13.2      0.0          active_mask = inner_products > gap\n",
       "   193         9         96.0     10.7      0.0          active_set = np.where(active_mask)[0]\n",
       "   194                                           \n",
       "   195                                                   # TODO add fallback solution if all predictors are discarded (& message)\n",
       "   196         9         12.0      1.3      0.0          assert len(active_set) > 0\n",
       "   197                                           \n",
       "   198                                                   while True:\n",
       "   199         9   14023303.0 1558144.8      3.7              XiXj = features.products(active_set)\n",
       "   200        18       7071.0    392.8      0.0              beta[active_set], n_iter = cd_nn_lasso_(\n",
       "   201         9         24.0      2.7      0.0                  Xy[active_set],\n",
       "   202         9          8.0      0.9      0.0                  XiXj,\n",
       "   203         9         11.0      1.2      0.0                  beta[active_set],\n",
       "   204         9         10.0      1.1      0.0                  lams[idx_outer],\n",
       "   205         9          9.0      1.0      0.0                  max_inner_iter,\n",
       "   206         9          6.0      0.7      0.0                  abstol,\n",
       "   207                                                       )\n",
       "   208         9         78.0      8.7      0.0              logger.info(f\"inner iteration finished - {n_iter}/{max_inner_iter} steps\")\n",
       "   209                                           \n",
       "   210         9   78760600.0 8751177.8     21.0              residuals = y - features.rmatvec(beta[active_set], active_set)\n",
       "   211         9  254534827.0 28281647.4     67.7              inner_products = features.matvec(residuals)\n",
       "   212                                           \n",
       "   213         9        119.0     13.2      0.0              old_active_mask = active_mask.copy()\n",
       "   214         9        397.0     44.1      0.0              active_mask |= inner_products > lams[idx_outer]\n",
       "   215         9        165.0     18.3      0.0              active_set = np.where(active_mask)[0]\n",
       "   216                                           \n",
       "   217         9        470.0     52.2      0.0              if np.all(active_mask == old_active_mask):\n",
       "   218         9         11.0      1.2      0.0                  break\n",
       "   219                                           \n",
       "   220         9       3269.0    363.2      0.0          path[idx_outer, active_set] = beta[active_set]\n",
       "   221         9       1749.0    194.3      0.0          n_active = path[idx_outer].count_nonzero()\n",
       "   222         9         78.0      8.7      0.0          logger.info(f\"outer iteration finished - {n_active} active features\")\n",
       "   223         9          9.0      1.0      0.0          if n_active > max_features:\n",
       "   224                                                       break\n",
       "   225                                           \n",
       "   226         9          8.0      0.9      0.0          if checkpoint is not None:\n",
       "   227                                                       save_state(checkpoint, Xy, path, lams, inner_products, beta, idx_outer)\n",
       "   228                                           \n",
       "   229         1          1.0      1.0      0.0      if checkpoint is not None:\n",
       "   230                                                   save_state(checkpoint, Xy, path, lams, inner_products, beta, idx_outer)\n",
       "   231                                           \n",
       "   232                                               # remove the last iteration to keep only max_features active, if needed\n",
       "   233         1        144.0    144.0      0.0      if path[idx_outer].count_nonzero() > max_features:\n",
       "   234                                                   path = path[:idx_outer]\n",
       "   235                                                   lams = lams[:idx_outer]\n",
       "   236                                               else:\n",
       "   237         1          1.0      1.0      0.0          assert idx_outer == max_outer_iter - 1\n",
       "   238                                           \n",
       "   239         1        141.0    141.0      0.0      beta = path[-1].toarray().squeeze()\n",
       "   240         1          2.0      2.0      0.0      return path, beta, lams"
      ]
     },
     "metadata": {},
     "output_type": "display_data"
    }
   ],
   "source": [
    "%lprun -f cd_nn_lasso_path cd_hsic_lasso(max_outer_iter=10, **cd_hsic_kwargs)"
   ]
  },
  {
   "cell_type": "markdown",
   "id": "3f18f83c-2f63-4d42-adaa-bf53f5b1f9ea",
   "metadata": {},
   "source": [
    "## Shutdown the Dask cluster\n",
    "\n",
    "Finally, we close the Dask cluster to release resources."
   ]
  },
  {
   "cell_type": "code",
   "execution_count": 14,
   "id": "97765d49-6b19-4bac-89d1-a26df4f554f8",
   "metadata": {},
   "outputs": [],
   "source": [
    "cluster.close()\n",
    "client.close()"
   ]
  }
 ],
 "metadata": {
  "kernelspec": {
   "display_name": "hsic_optimization",
   "language": "python",
   "name": "hsic_optimization"
  },
  "language_info": {
   "codemirror_mode": {
    "name": "ipython",
    "version": 3
   },
   "file_extension": ".py",
   "mimetype": "text/x-python",
   "name": "python",
   "nbconvert_exporter": "python",
   "pygments_lexer": "ipython3",
   "version": "3.8.11"
  }
 },
 "nbformat": 4,
 "nbformat_minor": 5
}
