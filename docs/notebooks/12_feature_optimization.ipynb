{
 "cells": [
  {
   "cell_type": "markdown",
   "metadata": {},
   "source": [
    "# Features optimisation (cont.)\n",
    "\n",
    "This notebook explore optimisation approaches for linear and polynomial kernels for continuous data."
   ]
  },
  {
   "cell_type": "code",
   "execution_count": 1,
   "metadata": {
    "tags": []
   },
   "outputs": [],
   "source": [
    "from pathlib import Path\n",
    "\n",
    "import h5py\n",
    "import numpy as np\n",
    "from numba import njit\n",
    "\n",
    "from hsic_optimization.hsic_tools import generate"
   ]
  },
  {
   "cell_type": "markdown",
   "metadata": {},
   "source": [
    "## Dataset generation\n",
    "\n",
    "For testing purpose, we will use only 1 feature with 1,000,000 samples."
   ]
  },
  {
   "cell_type": "code",
   "execution_count": 2,
   "metadata": {
    "tags": []
   },
   "outputs": [],
   "source": [
    "n_samples = 1_000_000\n",
    "n_features = 1\n",
    "n_active = 1\n",
    "dset_file = Path(f\"../data/test_dataset_{n_features}_by_{n_samples}_continous.h5\")"
   ]
  },
  {
   "cell_type": "code",
   "execution_count": 3,
   "metadata": {
    "tags": []
   },
   "outputs": [],
   "source": [
    "if not dset_file.exists():\n",
    "    generate(\n",
    "        dset_file,\n",
    "        samples=n_samples,\n",
    "        feats=n_features,\n",
    "        active=n_active,\n",
    "        seed=1234,\n",
    "        continuous_features=True,\n",
    "        continuous_target=True,\n",
    "    )"
   ]
  },
  {
   "cell_type": "code",
   "execution_count": 4,
   "metadata": {
    "tags": []
   },
   "outputs": [],
   "source": [
    "with h5py.File(dset_file, \"r\") as fd:\n",
    "    X = np.array(fd[\"X\"])"
   ]
  },
  {
   "cell_type": "markdown",
   "metadata": {},
   "source": [
    "## Accelerated linear feature function\n",
    "\n",
    "Here we'll compare speed of linear kernel with/without jit."
   ]
  },
  {
   "cell_type": "code",
   "execution_count": 5,
   "metadata": {
    "tags": []
   },
   "outputs": [],
   "source": [
    "# parameters for kernel generation\n",
    "B = 20\n",
    "M = 3\n",
    "\n",
    "# test feature vectore\n",
    "x = X[0] / X[0].std()"
   ]
  },
  {
   "cell_type": "code",
   "execution_count": 6,
   "metadata": {
    "tags": []
   },
   "outputs": [],
   "source": [
    "def compute_kernel(x, kernel, B=0, M=1, discarded=0):\n",
    "    n = len(x)\n",
    "    H = np.eye(B, dtype=np.float32) - np.full((B, B), 1 / B, dtype=np.float32)\n",
    "    K = np.zeros(n * B * M, dtype=np.float32)\n",
    "\n",
    "    st = 0\n",
    "    ed = B**2\n",
    "    index = np.arange(n)\n",
    "    for m in range(M):\n",
    "        np.random.seed(m)\n",
    "        index = np.random.permutation(index)\n",
    "        X_k = x[index]\n",
    "\n",
    "        for i in range(0, n - discarded, B):\n",
    "            j = min(n, i + B)\n",
    "\n",
    "            k = kernel(X_k[i:j])\n",
    "            k = (H @ k) @ H\n",
    "            k = k / (np.sqrt(np.sum(k**2)) + 1e-9)\n",
    "\n",
    "            K[st:ed] = k.ravel()\n",
    "            st += B**2\n",
    "            ed += B**2\n",
    "\n",
    "    return K\n",
    "\n",
    "\n",
    "compute_kernel_fast = njit(nogil=True, cache=True)(compute_kernel)"
   ]
  },
  {
   "cell_type": "markdown",
   "metadata": {},
   "source": [
    "Let's explore multiple implementations of the dot product.\n",
    "We'll try to leverage the fact that it is an outer product of an input vector with itself, to see if we can make it fastert this way."
   ]
  },
  {
   "cell_type": "code",
   "execution_count": 7,
   "metadata": {
    "tags": []
   },
   "outputs": [],
   "source": [
    "def kernel_linear_(X_in_1, X_in_2):\n",
    "    K = X_in_1.T.dot(X_in_2)\n",
    "    return K\n",
    "\n",
    "\n",
    "def kernel_linear_0(x):\n",
    "    return kernel_linear_(x[None, :], x[None, :])\n",
    "\n",
    "\n",
    "@njit(nogil=True, cache=True)\n",
    "def kernel_linear_1(x):\n",
    "    K = np.outer(x, x)\n",
    "    return K\n",
    "\n",
    "\n",
    "@njit(nogil=True, cache=True)\n",
    "def kernel_linear_2(x):\n",
    "    K = x[:, None] * x\n",
    "    return K\n",
    "\n",
    "\n",
    "@njit(nogil=True, cache=True)\n",
    "def kernel_linear_3(x):\n",
    "    n = len(x)\n",
    "    out = np.empty((n, n), dtype=np.float32)\n",
    "    for i in range(n):\n",
    "        for j in range(i, n):\n",
    "            res = x[i] * x[j]\n",
    "            out[i, j] = res\n",
    "            out[j, i] = res\n",
    "    return out"
   ]
  },
  {
   "cell_type": "code",
   "execution_count": 8,
   "metadata": {
    "tags": []
   },
   "outputs": [
    {
     "name": "stdout",
     "output_type": "stream",
     "text": [
      "4.84 s ± 34.9 ms per loop (mean ± std. dev. of 7 runs, 1 loop each)\n"
     ]
    }
   ],
   "source": [
    "%%timeit\n",
    "compute_kernel(x, kernel_linear_0, B, M)"
   ]
  },
  {
   "cell_type": "code",
   "execution_count": 9,
   "metadata": {
    "tags": []
   },
   "outputs": [
    {
     "name": "stdout",
     "output_type": "stream",
     "text": [
      "4.66 s ± 38.7 ms per loop (mean ± std. dev. of 7 runs, 1 loop each)\n"
     ]
    }
   ],
   "source": [
    "%%timeit\n",
    "compute_kernel(x, kernel_linear_1, B, M)"
   ]
  },
  {
   "cell_type": "code",
   "execution_count": 10,
   "metadata": {
    "tags": []
   },
   "outputs": [
    {
     "name": "stdout",
     "output_type": "stream",
     "text": [
      "4.7 s ± 33.7 ms per loop (mean ± std. dev. of 7 runs, 1 loop each)\n"
     ]
    }
   ],
   "source": [
    "%%timeit\n",
    "compute_kernel(x, kernel_linear_2, B, M)"
   ]
  },
  {
   "cell_type": "code",
   "execution_count": 11,
   "metadata": {
    "tags": []
   },
   "outputs": [
    {
     "name": "stdout",
     "output_type": "stream",
     "text": [
      "4.69 s ± 46.3 ms per loop (mean ± std. dev. of 7 runs, 1 loop each)\n"
     ]
    }
   ],
   "source": [
    "%%timeit\n",
    "compute_kernel(x, kernel_linear_3, B, M)"
   ]
  },
  {
   "cell_type": "markdown",
   "metadata": {
    "tags": []
   },
   "source": [
    "And using the accelerated feature function."
   ]
  },
  {
   "cell_type": "code",
   "execution_count": 12,
   "metadata": {
    "tags": []
   },
   "outputs": [
    {
     "name": "stdout",
     "output_type": "stream",
     "text": [
      "1.04 s ± 9.34 ms per loop (mean ± std. dev. of 7 runs, 1 loop each)\n"
     ]
    }
   ],
   "source": [
    "%%timeit\n",
    "compute_kernel_fast(x, kernel_linear_1, B, M)"
   ]
  },
  {
   "cell_type": "code",
   "execution_count": 13,
   "metadata": {
    "tags": []
   },
   "outputs": [
    {
     "name": "stdout",
     "output_type": "stream",
     "text": [
      "950 ms ± 10.3 ms per loop (mean ± std. dev. of 7 runs, 1 loop each)\n"
     ]
    }
   ],
   "source": [
    "%%timeit\n",
    "compute_kernel_fast(x, kernel_linear_2, B, M)"
   ]
  },
  {
   "cell_type": "code",
   "execution_count": 14,
   "metadata": {
    "tags": []
   },
   "outputs": [
    {
     "name": "stdout",
     "output_type": "stream",
     "text": [
      "972 ms ± 12.2 ms per loop (mean ± std. dev. of 7 runs, 1 loop each)\n"
     ]
    }
   ],
   "source": [
    "%%timeit\n",
    "compute_kernel_fast(x, kernel_linear_3, B, M)"
   ]
  },
  {
   "cell_type": "markdown",
   "metadata": {},
   "source": [
    "All versions are almost at the same speed.\n",
    "We'll check that is it close to the original version."
   ]
  },
  {
   "cell_type": "code",
   "execution_count": 15,
   "metadata": {
    "tags": []
   },
   "outputs": [
    {
     "data": {
      "text/plain": [
       "True"
      ]
     },
     "execution_count": 15,
     "metadata": {},
     "output_type": "execute_result"
    }
   ],
   "source": [
    "k_ref = compute_kernel(x, kernel_linear_0, B, M)\n",
    "k_2 = compute_kernel_fast(x, kernel_linear_2, B, M)\n",
    "np.allclose(k_ref, k_2)"
   ]
  },
  {
   "cell_type": "markdown",
   "metadata": {},
   "source": [
    "## Accelerated polynomial feature function\n",
    "\n",
    "We'll do the same exercise but for the polynomial kernel with degree = 2."
   ]
  },
  {
   "cell_type": "code",
   "execution_count": 16,
   "metadata": {
    "tags": []
   },
   "outputs": [],
   "source": [
    "def kernel_polynomial_(X_in_1, X_in_2, degree):\n",
    "    K = X_in_1.T.dot(X_in_2) ** degree\n",
    "    return K\n",
    "\n",
    "\n",
    "def kernel_quadratic_0(x):\n",
    "    return kernel_polynomial_(x[None, :], x[None, :], 2)\n",
    "\n",
    "\n",
    "@njit(nogil=True, cache=True)\n",
    "def kernel_quadratic_1(x):\n",
    "    return kernel_linear_3(x) ** 2\n",
    "\n",
    "\n",
    "@njit(nogil=True, cache=True)\n",
    "def kernel_quadratic_2(x):\n",
    "    return kernel_linear_3(x**2)\n",
    "\n",
    "\n",
    "@njit(nogil=True, cache=True)\n",
    "def kernel_quadratic_3(x):\n",
    "    n = len(x)\n",
    "    out = np.empty((n, n), dtype=np.float32)\n",
    "    for i in range(n):\n",
    "        for j in range(i, n):\n",
    "            res = (x[i] * x[j]) ** 2\n",
    "            out[i, j] = res\n",
    "            out[j, i] = res\n",
    "    return out"
   ]
  },
  {
   "cell_type": "code",
   "execution_count": 17,
   "metadata": {
    "tags": []
   },
   "outputs": [
    {
     "name": "stdout",
     "output_type": "stream",
     "text": [
      "5.09 s ± 31.7 ms per loop (mean ± std. dev. of 7 runs, 1 loop each)\n"
     ]
    }
   ],
   "source": [
    "%%timeit\n",
    "compute_kernel(x, kernel_quadratic_0, B, M)"
   ]
  },
  {
   "cell_type": "code",
   "execution_count": 18,
   "metadata": {
    "tags": []
   },
   "outputs": [
    {
     "name": "stdout",
     "output_type": "stream",
     "text": [
      "4.87 s ± 12.3 ms per loop (mean ± std. dev. of 7 runs, 1 loop each)\n"
     ]
    }
   ],
   "source": [
    "%%timeit\n",
    "compute_kernel(x, kernel_quadratic_1, B, M)"
   ]
  },
  {
   "cell_type": "code",
   "execution_count": 19,
   "metadata": {
    "tags": []
   },
   "outputs": [
    {
     "name": "stdout",
     "output_type": "stream",
     "text": [
      "4.65 s ± 11.1 ms per loop (mean ± std. dev. of 7 runs, 1 loop each)\n"
     ]
    }
   ],
   "source": [
    "%%timeit\n",
    "compute_kernel(x, kernel_quadratic_2, B, M)"
   ]
  },
  {
   "cell_type": "code",
   "execution_count": 20,
   "metadata": {
    "tags": []
   },
   "outputs": [
    {
     "name": "stdout",
     "output_type": "stream",
     "text": [
      "4.51 s ± 32.8 ms per loop (mean ± std. dev. of 7 runs, 1 loop each)\n"
     ]
    }
   ],
   "source": [
    "%%timeit\n",
    "compute_kernel(x, kernel_quadratic_3, B, M)"
   ]
  },
  {
   "cell_type": "markdown",
   "metadata": {},
   "source": [
    "And the accelerated feature versions."
   ]
  },
  {
   "cell_type": "code",
   "execution_count": 21,
   "metadata": {
    "tags": []
   },
   "outputs": [
    {
     "name": "stdout",
     "output_type": "stream",
     "text": [
      "1.04 s ± 14 ms per loop (mean ± std. dev. of 7 runs, 1 loop each)\n"
     ]
    }
   ],
   "source": [
    "%%timeit\n",
    "compute_kernel_fast(x, kernel_quadratic_1, B, M)"
   ]
  },
  {
   "cell_type": "code",
   "execution_count": 22,
   "metadata": {
    "tags": []
   },
   "outputs": [
    {
     "name": "stdout",
     "output_type": "stream",
     "text": [
      "1 s ± 4.38 ms per loop (mean ± std. dev. of 7 runs, 1 loop each)\n"
     ]
    }
   ],
   "source": [
    "%%timeit\n",
    "compute_kernel_fast(x, kernel_quadratic_2, B, M)"
   ]
  },
  {
   "cell_type": "code",
   "execution_count": 23,
   "metadata": {
    "tags": []
   },
   "outputs": [
    {
     "name": "stdout",
     "output_type": "stream",
     "text": [
      "979 ms ± 9.55 ms per loop (mean ± std. dev. of 7 runs, 1 loop each)\n"
     ]
    }
   ],
   "source": [
    "%%timeit\n",
    "compute_kernel_fast(x, kernel_quadratic_3, B, M)"
   ]
  },
  {
   "cell_type": "code",
   "execution_count": 24,
   "metadata": {
    "tags": []
   },
   "outputs": [
    {
     "data": {
      "text/plain": [
       "True"
      ]
     },
     "execution_count": 24,
     "metadata": {},
     "output_type": "execute_result"
    }
   ],
   "source": [
    "k_ref = compute_kernel(x, kernel_quadratic_0, B, M)\n",
    "k_1 = compute_kernel_fast(x, kernel_quadratic_1, B, M)\n",
    "np.allclose(k_ref, k_1)"
   ]
  },
  {
   "cell_type": "markdown",
   "metadata": {},
   "source": [
    "## Linear algebra libraries\n",
    "\n",
    "Let's double check which version of BLAS is used."
   ]
  },
  {
   "cell_type": "code",
   "execution_count": 25,
   "metadata": {
    "tags": []
   },
   "outputs": [
    {
     "name": "stdout",
     "output_type": "stream",
     "text": [
      "Build Dependencies:\n",
      "  blas:\n",
      "    detection method: pkgconfig\n",
      "    found: true\n",
      "    include directory: /usr/local/include\n",
      "    lib directory: /usr/local/lib\n",
      "    name: openblas64\n",
      "    openblas configuration: USE_64BITINT=1 DYNAMIC_ARCH=1 DYNAMIC_OLDER= NO_CBLAS=\n",
      "      NO_LAPACK= NO_LAPACKE= NO_AFFINITY=1 USE_OPENMP= HASWELL MAX_THREADS=2\n",
      "    pc file directory: /usr/local/lib/pkgconfig\n",
      "    version: 0.3.23.dev\n",
      "  lapack:\n",
      "    detection method: internal\n",
      "    found: true\n",
      "    include directory: unknown\n",
      "    lib directory: unknown\n",
      "    name: dep139863411681952\n",
      "    openblas configuration: unknown\n",
      "    pc file directory: unknown\n",
      "    version: 1.26.4\n",
      "Compilers:\n",
      "  c:\n",
      "    args: -fno-strict-aliasing\n",
      "    commands: cc\n",
      "    linker: ld.bfd\n",
      "    linker args: -Wl,--strip-debug, -fno-strict-aliasing\n",
      "    name: gcc\n",
      "    version: 10.2.1\n",
      "  c++:\n",
      "    commands: c++\n",
      "    linker: ld.bfd\n",
      "    linker args: -Wl,--strip-debug\n",
      "    name: gcc\n",
      "    version: 10.2.1\n",
      "  cython:\n",
      "    commands: cython\n",
      "    linker: cython\n",
      "    name: cython\n",
      "    version: 3.0.8\n",
      "Machine Information:\n",
      "  build:\n",
      "    cpu: x86_64\n",
      "    endian: little\n",
      "    family: x86_64\n",
      "    system: linux\n",
      "  host:\n",
      "    cpu: x86_64\n",
      "    endian: little\n",
      "    family: x86_64\n",
      "    system: linux\n",
      "Python Information:\n",
      "  path: /opt/python/cp310-cp310/bin/python\n",
      "  version: '3.10'\n",
      "SIMD Extensions:\n",
      "  baseline:\n",
      "  - SSE\n",
      "  - SSE2\n",
      "  - SSE3\n",
      "  found:\n",
      "  - SSSE3\n",
      "  - SSE41\n",
      "  - POPCNT\n",
      "  - SSE42\n",
      "  - AVX\n",
      "  - F16C\n",
      "  - FMA3\n",
      "  - AVX2\n",
      "  not found:\n",
      "  - AVX512F\n",
      "  - AVX512CD\n",
      "  - AVX512_KNL\n",
      "  - AVX512_KNM\n",
      "  - AVX512_SKX\n",
      "  - AVX512_CLX\n",
      "  - AVX512_CNL\n",
      "  - AVX512_ICL\n",
      "\n"
     ]
    }
   ],
   "source": [
    "np.show_config()"
   ]
  }
 ],
 "metadata": {
  "kernelspec": {
   "display_name": "hsic_optimization",
   "language": "python",
   "name": "hsic_optimization"
  },
  "language_info": {
   "codemirror_mode": {
    "name": "ipython",
    "version": 3
   },
   "file_extension": ".py",
   "mimetype": "text/x-python",
   "name": "python",
   "nbconvert_exporter": "python",
   "pygments_lexer": "ipython3",
   "version": "3.10.14"
  }
 },
 "nbformat": 4,
 "nbformat_minor": 4
}
